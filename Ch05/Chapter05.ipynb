{
 "cells": [
  {
   "cell_type": "code",
   "execution_count": 1,
   "metadata": {},
   "outputs": [
    {
     "name": "stdout",
     "output_type": "stream",
     "text": [
      "Requirement already satisfied: plotly in /Users/umitcakmak/anaconda/lib/python3.6/site-packages\n",
      "Requirement already satisfied: nbformat>=4.2 in /Users/umitcakmak/anaconda/lib/python3.6/site-packages (from plotly)\n",
      "Requirement already satisfied: six in /Users/umitcakmak/anaconda/lib/python3.6/site-packages (from plotly)\n",
      "Requirement already satisfied: pytz in /Users/umitcakmak/anaconda/lib/python3.6/site-packages (from plotly)\n",
      "Requirement already satisfied: decorator>=4.0.6 in /Users/umitcakmak/anaconda/lib/python3.6/site-packages (from plotly)\n",
      "Requirement already satisfied: requests in /Users/umitcakmak/anaconda/lib/python3.6/site-packages (from plotly)\n",
      "Requirement already satisfied: traitlets>=4.1 in /Users/umitcakmak/anaconda/lib/python3.6/site-packages (from nbformat>=4.2->plotly)\n",
      "Requirement already satisfied: jupyter-core in /Users/umitcakmak/anaconda/lib/python3.6/site-packages (from nbformat>=4.2->plotly)\n",
      "Requirement already satisfied: jsonschema!=2.5.0,>=2.4 in /Users/umitcakmak/anaconda/lib/python3.6/site-packages (from nbformat>=4.2->plotly)\n",
      "Requirement already satisfied: ipython-genutils in /Users/umitcakmak/anaconda/lib/python3.6/site-packages (from nbformat>=4.2->plotly)\n",
      "Requirement already satisfied: urllib3<1.23,>=1.21.1 in /Users/umitcakmak/anaconda/lib/python3.6/site-packages (from requests->plotly)\n",
      "Requirement already satisfied: chardet<3.1.0,>=3.0.2 in /Users/umitcakmak/anaconda/lib/python3.6/site-packages (from requests->plotly)\n",
      "Requirement already satisfied: certifi>=2017.4.17 in /Users/umitcakmak/anaconda/lib/python3.6/site-packages (from requests->plotly)\n",
      "Requirement already satisfied: idna<2.7,>=2.5 in /Users/umitcakmak/anaconda/lib/python3.6/site-packages (from requests->plotly)\n",
      "\u001b[33mYou are using pip version 9.0.1, however version 10.0.1 is available.\n",
      "You should consider upgrading via the 'pip install --upgrade pip' command.\u001b[0m\n",
      "Collecting cufflinks\n",
      "  Downloading https://files.pythonhosted.org/packages/77/03/41417334cd40090889feb31f0f08f70279b5ceb6a0941ebe84b8fedcd201/cufflinks-0.12.1.tar.gz (49kB)\n",
      "\u001b[K    100% |████████████████████████████████| 51kB 275kB/s \n",
      "\u001b[?25hRequirement already satisfied: pandas in /Users/umitcakmak/anaconda/lib/python3.6/site-packages (from cufflinks)\n",
      "Requirement already satisfied: plotly>=2.0.0 in /Users/umitcakmak/anaconda/lib/python3.6/site-packages (from cufflinks)\n",
      "Collecting colorlover>=0.2 (from cufflinks)\n",
      "  Downloading https://files.pythonhosted.org/packages/ec/29/2f48e4412213adead8402dd358780a4d975263eda14c0fdd3cae9fae8763/colorlover-0.2.1.tar.gz\n",
      "Requirement already satisfied: python-dateutil>=2 in /Users/umitcakmak/anaconda/lib/python3.6/site-packages (from pandas->cufflinks)\n",
      "Requirement already satisfied: pytz>=2011k in /Users/umitcakmak/anaconda/lib/python3.6/site-packages (from pandas->cufflinks)\n",
      "Requirement already satisfied: numpy>=1.7.0 in /Users/umitcakmak/anaconda/lib/python3.6/site-packages (from pandas->cufflinks)\n",
      "Requirement already satisfied: decorator>=4.0.6 in /Users/umitcakmak/anaconda/lib/python3.6/site-packages (from plotly>=2.0.0->cufflinks)\n",
      "Requirement already satisfied: nbformat>=4.2 in /Users/umitcakmak/anaconda/lib/python3.6/site-packages (from plotly>=2.0.0->cufflinks)\n",
      "Requirement already satisfied: six in /Users/umitcakmak/anaconda/lib/python3.6/site-packages (from plotly>=2.0.0->cufflinks)\n",
      "Requirement already satisfied: requests in /Users/umitcakmak/anaconda/lib/python3.6/site-packages (from plotly>=2.0.0->cufflinks)\n",
      "Requirement already satisfied: ipython-genutils in /Users/umitcakmak/anaconda/lib/python3.6/site-packages (from nbformat>=4.2->plotly>=2.0.0->cufflinks)\n",
      "Requirement already satisfied: jsonschema!=2.5.0,>=2.4 in /Users/umitcakmak/anaconda/lib/python3.6/site-packages (from nbformat>=4.2->plotly>=2.0.0->cufflinks)\n",
      "Requirement already satisfied: traitlets>=4.1 in /Users/umitcakmak/anaconda/lib/python3.6/site-packages (from nbformat>=4.2->plotly>=2.0.0->cufflinks)\n",
      "Requirement already satisfied: jupyter-core in /Users/umitcakmak/anaconda/lib/python3.6/site-packages (from nbformat>=4.2->plotly>=2.0.0->cufflinks)\n",
      "Requirement already satisfied: certifi>=2017.4.17 in /Users/umitcakmak/anaconda/lib/python3.6/site-packages (from requests->plotly>=2.0.0->cufflinks)\n",
      "Requirement already satisfied: chardet<3.1.0,>=3.0.2 in /Users/umitcakmak/anaconda/lib/python3.6/site-packages (from requests->plotly>=2.0.0->cufflinks)\n",
      "Requirement already satisfied: urllib3<1.23,>=1.21.1 in /Users/umitcakmak/anaconda/lib/python3.6/site-packages (from requests->plotly>=2.0.0->cufflinks)\n",
      "Requirement already satisfied: idna<2.7,>=2.5 in /Users/umitcakmak/anaconda/lib/python3.6/site-packages (from requests->plotly>=2.0.0->cufflinks)\n",
      "Building wheels for collected packages: cufflinks, colorlover\n",
      "  Running setup.py bdist_wheel for cufflinks ... \u001b[?25ldone\n",
      "\u001b[?25h  Stored in directory: /Users/umitcakmak/Library/Caches/pip/wheels/fe/65/2a/c27161ec188f5129f8ed0266e69c14964589d48d43766f1af3\n",
      "  Running setup.py bdist_wheel for colorlover ... \u001b[?25ldone\n",
      "\u001b[?25h  Stored in directory: /Users/umitcakmak/Library/Caches/pip/wheels/fc/c3/f7/fde32e0d906ad64fe8011a823ea39e0197616116150f4a8376\n",
      "Successfully built cufflinks colorlover\n",
      "Installing collected packages: colorlover, cufflinks\n",
      "Successfully installed colorlover-0.2.1 cufflinks-0.12.1\n",
      "\u001b[33mYou are using pip version 9.0.1, however version 10.0.1 is available.\n",
      "You should consider upgrading via the 'pip install --upgrade pip' command.\u001b[0m\n"
     ]
    }
   ],
   "source": [
    "# Installing necessary libraries with pip\n",
    "!pip install plotly --user \n",
    "!pip install cufflinks --user"
   ]
  },
  {
   "cell_type": "code",
   "execution_count": 6,
   "metadata": {},
   "outputs": [
    {
     "data": {
      "text/html": [
       "<script>requirejs.config({paths: { 'plotly': ['https://cdn.plot.ly/plotly-latest.min']},});if(!window.Plotly) {{require(['plotly'],function(plotly) {window.Plotly=plotly;});}}</script>"
      ],
      "text/vnd.plotly.v1+html": [
       "<script>requirejs.config({paths: { 'plotly': ['https://cdn.plot.ly/plotly-latest.min']},});if(!window.Plotly) {{require(['plotly'],function(plotly) {window.Plotly=plotly;});}}</script>"
      ]
     },
     "metadata": {},
     "output_type": "display_data"
    }
   ],
   "source": [
    "# Necessary imports\n",
    "import os\n",
    "import sys\n",
    "import numpy as np\n",
    "import pandas\n",
    "import matplotlib.pyplot as plt\n",
    "%matplotlib inline\n",
    "\n",
    "import plotly.plotly as py\n",
    "from plotly.offline import download_plotlyjs, init_notebook_mode, plot, iplot\n",
    "import cufflinks as cf\n",
    "import plotly.graph_objs as go\n",
    "import plotly.figure_factory as ff\n",
    "\n",
    "init_notebook_mode(connected=True)\n",
    "sys.path.append(\"\".join([os.environ[\"HOME\"]])) "
   ]
  },
  {
   "cell_type": "code",
   "execution_count": 2,
   "metadata": {},
   "outputs": [],
   "source": [
    "from sklearn.datasets import load_iris\n",
    "iris_data = load_iris()"
   ]
  },
  {
   "cell_type": "code",
   "execution_count": 3,
   "metadata": {},
   "outputs": [
    {
     "data": {
      "text/plain": [
       "['sepal length (cm)',\n",
       " 'sepal width (cm)',\n",
       " 'petal length (cm)',\n",
       " 'petal width (cm)']"
      ]
     },
     "execution_count": 3,
     "metadata": {},
     "output_type": "execute_result"
    }
   ],
   "source": [
    "iris_data.feature_names"
   ]
  },
  {
   "cell_type": "markdown",
   "metadata": {},
   "source": [
    "#### First 2 dimensions"
   ]
  },
  {
   "cell_type": "code",
   "execution_count": 34,
   "metadata": {},
   "outputs": [
    {
     "data": {
      "text/plain": [
       "'file:///Users/umitcakmak/Documents/PhD/Book_Proposals/temp-plot.html'"
      ]
     },
     "execution_count": 34,
     "metadata": {},
     "output_type": "execute_result"
    }
   ],
   "source": [
    "x = [v[0] for v in iris_data.data]\n",
    "y = [v[1] for v in iris_data.data]\n",
    "\n",
    "# Create a trace\n",
    "trace = go.Scatter(\n",
    "    x = x,\n",
    "    y = y,\n",
    "    mode = 'markers'\n",
    ")\n",
    "\n",
    "layout= go.Layout(\n",
    "    title= 'Iris Dataset',\n",
    "    hovermode= 'closest',\n",
    "    xaxis= dict(\n",
    "        title= 'sepal length (cm)',\n",
    "        ticklen= 5,\n",
    "        zeroline= False,\n",
    "        gridwidth= 2,\n",
    "    ),\n",
    "    yaxis=dict(\n",
    "        title= 'sepal width (cm)',\n",
    "        ticklen= 5,\n",
    "        gridwidth= 2,\n",
    "    ),\n",
    "    showlegend= False\n",
    ")\n",
    "\n",
    "data = [trace]\n",
    "\n",
    "fig= go.Figure(data=data, layout=layout)\n",
    "plot(fig)"
   ]
  },
  {
   "cell_type": "markdown",
   "metadata": {},
   "source": [
    "#### Scatter plot matrix"
   ]
  },
  {
   "cell_type": "code",
   "execution_count": 22,
   "metadata": {},
   "outputs": [],
   "source": [
    "import pandas as pd\n",
    "df = pd.DataFrame(iris_data.data,\n",
    "                         columns=['sepal length (cm)',\n",
    "                                  'sepal width (cm)',\n",
    "                                  'petal length (cm)',\n",
    "                                  'petal width (cm)'])\n",
    "\n",
    "df['class'] = [iris_data.target_names[i] for i in iris_data.target]"
   ]
  },
  {
   "cell_type": "code",
   "execution_count": 25,
   "metadata": {},
   "outputs": [
    {
     "data": {
      "text/html": [
       "<div>\n",
       "<style>\n",
       "    .dataframe thead tr:only-child th {\n",
       "        text-align: right;\n",
       "    }\n",
       "\n",
       "    .dataframe thead th {\n",
       "        text-align: left;\n",
       "    }\n",
       "\n",
       "    .dataframe tbody tr th {\n",
       "        vertical-align: top;\n",
       "    }\n",
       "</style>\n",
       "<table border=\"1\" class=\"dataframe\">\n",
       "  <thead>\n",
       "    <tr style=\"text-align: right;\">\n",
       "      <th></th>\n",
       "      <th>sepal length (cm)</th>\n",
       "      <th>sepal width (cm)</th>\n",
       "      <th>petal length (cm)</th>\n",
       "      <th>petal width (cm)</th>\n",
       "      <th>class</th>\n",
       "    </tr>\n",
       "  </thead>\n",
       "  <tbody>\n",
       "    <tr>\n",
       "      <th>0</th>\n",
       "      <td>5.1</td>\n",
       "      <td>3.5</td>\n",
       "      <td>1.4</td>\n",
       "      <td>0.2</td>\n",
       "      <td>setosa</td>\n",
       "    </tr>\n",
       "    <tr>\n",
       "      <th>1</th>\n",
       "      <td>4.9</td>\n",
       "      <td>3.0</td>\n",
       "      <td>1.4</td>\n",
       "      <td>0.2</td>\n",
       "      <td>setosa</td>\n",
       "    </tr>\n",
       "    <tr>\n",
       "      <th>2</th>\n",
       "      <td>4.7</td>\n",
       "      <td>3.2</td>\n",
       "      <td>1.3</td>\n",
       "      <td>0.2</td>\n",
       "      <td>setosa</td>\n",
       "    </tr>\n",
       "    <tr>\n",
       "      <th>3</th>\n",
       "      <td>4.6</td>\n",
       "      <td>3.1</td>\n",
       "      <td>1.5</td>\n",
       "      <td>0.2</td>\n",
       "      <td>setosa</td>\n",
       "    </tr>\n",
       "    <tr>\n",
       "      <th>4</th>\n",
       "      <td>5.0</td>\n",
       "      <td>3.6</td>\n",
       "      <td>1.4</td>\n",
       "      <td>0.2</td>\n",
       "      <td>setosa</td>\n",
       "    </tr>\n",
       "  </tbody>\n",
       "</table>\n",
       "</div>"
      ],
      "text/plain": [
       "   sepal length (cm)  sepal width (cm)  petal length (cm)  petal width (cm)  \\\n",
       "0                5.1               3.5                1.4               0.2   \n",
       "1                4.9               3.0                1.4               0.2   \n",
       "2                4.7               3.2                1.3               0.2   \n",
       "3                4.6               3.1                1.5               0.2   \n",
       "4                5.0               3.6                1.4               0.2   \n",
       "\n",
       "    class  \n",
       "0  setosa  \n",
       "1  setosa  \n",
       "2  setosa  \n",
       "3  setosa  \n",
       "4  setosa  "
      ]
     },
     "execution_count": 25,
     "metadata": {},
     "output_type": "execute_result"
    }
   ],
   "source": [
    "df.head()"
   ]
  },
  {
   "cell_type": "code",
   "execution_count": 35,
   "metadata": {},
   "outputs": [
    {
     "data": {
      "text/plain": [
       "'file:///Users/umitcakmak/Documents/PhD/Book_Proposals/temp-plot.html'"
      ]
     },
     "execution_count": 35,
     "metadata": {},
     "output_type": "execute_result"
    }
   ],
   "source": [
    "fig = ff.create_scatterplotmatrix(df, index='class', diag='histogram', size=10, height=800, width=800)\n",
    "plot(fig)"
   ]
  },
  {
   "cell_type": "markdown",
   "metadata": {},
   "source": [
    "#### 3D Chart"
   ]
  },
  {
   "cell_type": "code",
   "execution_count": 57,
   "metadata": {},
   "outputs": [
    {
     "data": {
      "text/plain": [
       "'file:///Users/umitcakmak/Documents/PhD/Book_Proposals/temp-plot.html'"
      ]
     },
     "execution_count": 57,
     "metadata": {},
     "output_type": "execute_result"
    }
   ],
   "source": [
    "# Creating data for the plotly\n",
    "trace1 = go.Scatter3d(\n",
    "    # Extracting data based on label\n",
    "    x=[x[0][0] for x in zip(iris_data.data, iris_data.target) if x[1] == 0],\n",
    "    y=[x[0][2] for x in zip(iris_data.data, iris_data.target) if x[1] == 0],\n",
    "    z=[x[0][3] for x in zip(iris_data.data, iris_data.target) if x[1] == 0],\n",
    "    mode='markers',\n",
    "    marker=dict(\n",
    "        size=12,\n",
    "        line=dict(\n",
    "            color='rgba(217, 217, 217, 0.14)',\n",
    "            width=0.5\n",
    "        ),\n",
    "        opacity=0.8\n",
    "    )\n",
    ")\n",
    "\n",
    "trace2 = go.Scatter3d(\n",
    "    # Extracting data based on label\n",
    "    x=[x[0][0] for x in zip(iris_data.data, iris_data.target) if x[1] == 1],\n",
    "    y=[x[0][2] for x in zip(iris_data.data, iris_data.target) if x[1] == 1],\n",
    "    z=[x[0][3] for x in zip(iris_data.data, iris_data.target) if x[1] == 1],\n",
    "    mode='markers',\n",
    "    marker=dict(\n",
    "        color='rgb(#3742fa)',\n",
    "        size=12,\n",
    "        symbol='circle',\n",
    "        line=dict(\n",
    "            color='rgb(204, 204, 204)',\n",
    "            width=1\n",
    "        ),\n",
    "        opacity=0.9\n",
    "    )\n",
    ")\n",
    "\n",
    "trace3 = go.Scatter3d(\n",
    "    # Extracting data based on label\n",
    "    x=[x[0][0] for x in zip(iris_data.data, iris_data.target) if x[1] == 2],\n",
    "    y=[x[0][2] for x in zip(iris_data.data, iris_data.target) if x[1] == 2],\n",
    "    z=[x[0][3] for x in zip(iris_data.data, iris_data.target) if x[1] == 2],\n",
    "    mode='markers',\n",
    "    marker=dict(\n",
    "        color='rgb(#ff4757)',\n",
    "        size=12,\n",
    "        symbol='circle',\n",
    "        line=dict(\n",
    "            color='rgb(104, 74, 114)',\n",
    "            width=1\n",
    "        ),\n",
    "        opacity=0.9\n",
    "    )\n",
    ")\n",
    "\n",
    "\n",
    "data = [trace1, trace2, trace3]\n",
    "\n",
    "# Layout settings\n",
    "layout = go.Layout(\n",
    "    scene = dict(\n",
    "        xaxis = dict(\n",
    "            title= 'sepal length (cm)'),\n",
    "        yaxis = dict(\n",
    "            title= 'petal length (cm)'),\n",
    "        zaxis = dict(\n",
    "            title= 'petal width (cm)'),),\n",
    ")\n",
    "\n",
    "\n",
    "fig = go.Figure(data=data, layout=layout)\n",
    "plot(fig)"
   ]
  },
  {
   "cell_type": "markdown",
   "metadata": {},
   "source": [
    "#### Hyperparameters"
   ]
  },
  {
   "cell_type": "code",
   "execution_count": 93,
   "metadata": {},
   "outputs": [],
   "source": [
    "from sklearn.cluster import KMeans"
   ]
  },
  {
   "cell_type": "code",
   "execution_count": 78,
   "metadata": {},
   "outputs": [
    {
     "data": {
      "text/plain": [
       "\u001b[0;31mInit signature:\u001b[0m \u001b[0mKMeans\u001b[0m\u001b[0;34m(\u001b[0m\u001b[0mn_clusters\u001b[0m\u001b[0;34m=\u001b[0m\u001b[0;36m8\u001b[0m\u001b[0;34m,\u001b[0m \u001b[0minit\u001b[0m\u001b[0;34m=\u001b[0m\u001b[0;34m'k-means++'\u001b[0m\u001b[0;34m,\u001b[0m \u001b[0mn_init\u001b[0m\u001b[0;34m=\u001b[0m\u001b[0;36m10\u001b[0m\u001b[0;34m,\u001b[0m \u001b[0mmax_iter\u001b[0m\u001b[0;34m=\u001b[0m\u001b[0;36m300\u001b[0m\u001b[0;34m,\u001b[0m \u001b[0mtol\u001b[0m\u001b[0;34m=\u001b[0m\u001b[0;36m0.0001\u001b[0m\u001b[0;34m,\u001b[0m \u001b[0mprecompute_distances\u001b[0m\u001b[0;34m=\u001b[0m\u001b[0;34m'auto'\u001b[0m\u001b[0;34m,\u001b[0m \u001b[0mverbose\u001b[0m\u001b[0;34m=\u001b[0m\u001b[0;36m0\u001b[0m\u001b[0;34m,\u001b[0m \u001b[0mrandom_state\u001b[0m\u001b[0;34m=\u001b[0m\u001b[0;32mNone\u001b[0m\u001b[0;34m,\u001b[0m \u001b[0mcopy_x\u001b[0m\u001b[0;34m=\u001b[0m\u001b[0;32mTrue\u001b[0m\u001b[0;34m,\u001b[0m \u001b[0mn_jobs\u001b[0m\u001b[0;34m=\u001b[0m\u001b[0;36m1\u001b[0m\u001b[0;34m,\u001b[0m \u001b[0malgorithm\u001b[0m\u001b[0;34m=\u001b[0m\u001b[0;34m'auto'\u001b[0m\u001b[0;34m)\u001b[0m\u001b[0;34m\u001b[0m\u001b[0m\n",
       "\u001b[0;31mDocstring:\u001b[0m     \n",
       "K-Means clustering\n",
       "\n",
       "Read more in the :ref:`User Guide <k_means>`.\n",
       "\n",
       "Parameters\n",
       "----------\n",
       "\n",
       "n_clusters : int, optional, default: 8\n",
       "    The number of clusters to form as well as the number of\n",
       "    centroids to generate.\n",
       "\n",
       "init : {'k-means++', 'random' or an ndarray}\n",
       "    Method for initialization, defaults to 'k-means++':\n",
       "\n",
       "    'k-means++' : selects initial cluster centers for k-mean\n",
       "    clustering in a smart way to speed up convergence. See section\n",
       "    Notes in k_init for more details.\n",
       "\n",
       "    'random': choose k observations (rows) at random from data for\n",
       "    the initial centroids.\n",
       "\n",
       "    If an ndarray is passed, it should be of shape (n_clusters, n_features)\n",
       "    and gives the initial centers.\n",
       "\n",
       "n_init : int, default: 10\n",
       "    Number of time the k-means algorithm will be run with different\n",
       "    centroid seeds. The final results will be the best output of\n",
       "    n_init consecutive runs in terms of inertia.\n",
       "\n",
       "max_iter : int, default: 300\n",
       "    Maximum number of iterations of the k-means algorithm for a\n",
       "    single run.\n",
       "\n",
       "tol : float, default: 1e-4\n",
       "    Relative tolerance with regards to inertia to declare convergence\n",
       "\n",
       "precompute_distances : {'auto', True, False}\n",
       "    Precompute distances (faster but takes more memory).\n",
       "\n",
       "    'auto' : do not precompute distances if n_samples * n_clusters > 12\n",
       "    million. This corresponds to about 100MB overhead per job using\n",
       "    double precision.\n",
       "\n",
       "    True : always precompute distances\n",
       "\n",
       "    False : never precompute distances\n",
       "\n",
       "verbose : int, default 0\n",
       "    Verbosity mode.\n",
       "\n",
       "random_state : int, RandomState instance or None, optional, default: None\n",
       "    If int, random_state is the seed used by the random number generator;\n",
       "    If RandomState instance, random_state is the random number generator;\n",
       "    If None, the random number generator is the RandomState instance used\n",
       "    by `np.random`.\n",
       "\n",
       "copy_x : boolean, default True\n",
       "    When pre-computing distances it is more numerically accurate to center\n",
       "    the data first.  If copy_x is True, then the original data is not\n",
       "    modified.  If False, the original data is modified, and put back before\n",
       "    the function returns, but small numerical differences may be introduced\n",
       "    by subtracting and then adding the data mean.\n",
       "\n",
       "n_jobs : int\n",
       "    The number of jobs to use for the computation. This works by computing\n",
       "    each of the n_init runs in parallel.\n",
       "\n",
       "    If -1 all CPUs are used. If 1 is given, no parallel computing code is\n",
       "    used at all, which is useful for debugging. For n_jobs below -1,\n",
       "    (n_cpus + 1 + n_jobs) are used. Thus for n_jobs = -2, all CPUs but one\n",
       "    are used.\n",
       "\n",
       "algorithm : \"auto\", \"full\" or \"elkan\", default=\"auto\"\n",
       "    K-means algorithm to use. The classical EM-style algorithm is \"full\".\n",
       "    The \"elkan\" variation is more efficient by using the triangle\n",
       "    inequality, but currently doesn't support sparse data. \"auto\" chooses\n",
       "    \"elkan\" for dense data and \"full\" for sparse data.\n",
       "\n",
       "Attributes\n",
       "----------\n",
       "cluster_centers_ : array, [n_clusters, n_features]\n",
       "    Coordinates of cluster centers\n",
       "\n",
       "labels_ :\n",
       "    Labels of each point\n",
       "\n",
       "inertia_ : float\n",
       "    Sum of distances of samples to their closest cluster center.\n",
       "\n",
       "Examples\n",
       "--------\n",
       "\n",
       ">>> from sklearn.cluster import KMeans\n",
       ">>> import numpy as np\n",
       ">>> X = np.array([[1, 2], [1, 4], [1, 0],\n",
       "...               [4, 2], [4, 4], [4, 0]])\n",
       ">>> kmeans = KMeans(n_clusters=2, random_state=0).fit(X)\n",
       ">>> kmeans.labels_\n",
       "array([0, 0, 0, 1, 1, 1], dtype=int32)\n",
       ">>> kmeans.predict([[0, 0], [4, 4]])\n",
       "array([0, 1], dtype=int32)\n",
       ">>> kmeans.cluster_centers_\n",
       "array([[ 1.,  2.],\n",
       "       [ 4.,  2.]])\n",
       "\n",
       "See also\n",
       "--------\n",
       "\n",
       "MiniBatchKMeans\n",
       "    Alternative online implementation that does incremental updates\n",
       "    of the centers positions using mini-batches.\n",
       "    For large scale learning (say n_samples > 10k) MiniBatchKMeans is\n",
       "    probably much faster than the default batch implementation.\n",
       "\n",
       "Notes\n",
       "------\n",
       "The k-means problem is solved using Lloyd's algorithm.\n",
       "\n",
       "The average complexity is given by O(k n T), were n is the number of\n",
       "samples and T is the number of iteration.\n",
       "\n",
       "The worst case complexity is given by O(n^(k+2/p)) with\n",
       "n = n_samples, p = n_features. (D. Arthur and S. Vassilvitskii,\n",
       "'How slow is the k-means method?' SoCG2006)\n",
       "\n",
       "In practice, the k-means algorithm is very fast (one of the fastest\n",
       "clustering algorithms available), but it falls in local minima. That's why\n",
       "it can be useful to restart it several times.\n",
       "\u001b[0;31mFile:\u001b[0m           ~/anaconda/lib/python3.6/site-packages/sklearn/cluster/k_means_.py\n",
       "\u001b[0;31mType:\u001b[0m           type\n"
      ]
     },
     "metadata": {},
     "output_type": "display_data"
    }
   ],
   "source": [
    "KMeans?"
   ]
  },
  {
   "cell_type": "code",
   "execution_count": 91,
   "metadata": {},
   "outputs": [],
   "source": [
    "from sklearn.datasets.samples_generator import make_blobs\n",
    "X, y = make_blobs(n_samples=500, centers=3, n_features=3, cluster_std=[2.1, 1.5, 3.7], random_state=442)"
   ]
  },
  {
   "cell_type": "code",
   "execution_count": 94,
   "metadata": {},
   "outputs": [
    {
     "name": "stdout",
     "output_type": "stream",
     "text": [
      "[1 2 1 1 0 0 1 0 1 0 1 2 0 0 2 0 2 1 1 1 1 0 0 1 0 2 0 2 2 1 2 2 2 0 1 2 2\n",
      " 0 0 1 0 1 1 1 1 1 1 2 1 1 2 2 0 2 0 0 1 1 2 0 0 0 0 1 0 1 2 0 0 2 2 2 0 0\n",
      " 0 0 0 2 0 0 1 0 1 0 1 1 2 1 0 1 1 2 1 0 2 2 1 2 2 1 0 0 2 0 2 0 0 2 2 1 0\n",
      " 2 0 1 2 1 0 0 0 0 0 1 0 2 1 1 0 2 0 2 1 0 1 1 0 1 1 0 2 1 1 0 2 1 1 1 1 1\n",
      " 1 0 2 2 0 1 0 2 1 0 0 2 0 1 0 0 0 0 2 0 1 2 2 1 1 0 0 1 0 1 0 0 2 1 0 2 0\n",
      " 0 0 2 1 1 0 1 0 2 2 0 2 2 0 2 1 2 1 1 1 0 2 0 1 1 0 1 1 2 1 0 2 2 0 0 1 2\n",
      " 0 2 0 2 0 1 2 1 0 0 2 0 1 2 0 2 1 1 1 0 1 1 0 2 2 0 2 2 1 0 1 0 1 0 1 1 0\n",
      " 1 0 1 0 0 0 2 1 1 1 1 0 0 0 2 2 2 2 2 2 2 1 2 0 0 1 1 1 1 2 1 2 2 2 0 2 2\n",
      " 1 0 1 1 0 0 1 1 0 0 1 2 0 1 2 1 2 2 1 2 2 0 0 0 0 0 1 1 0 2 2 1 1 2 2 1 2\n",
      " 0 2 1 2 0 1 0 0 1 2 1 1 2 2 2 1 0 1 1 0 1 0 1 1 2 1 0 1 1 2 1 1 0 1 2 1 1\n",
      " 1 1 2 1 0 0 2 0 1 2 1 1 2 1 2 2 1 2 0 0 0 1 1 2 0 0 0 1 1 0 1 0 0 0 0 1 2\n",
      " 1 0 1 1 1 0 2 0 2 2 0 2 0 2 0 0 0 0 0 2 0 1 1 0 0 1 0 0 2 1 0 0 1 2 0 1 0\n",
      " 1 1 0 2 1 1 1 2 1 1 0 1 1 0 0 0 0 0 0 2 1 1 0 0 0 1 2 0 0 0 1 0 2 0 2 0 2\n",
      " 0 1 2 1 2 2 1 0 0 1 1 1 0 1 2 1 0 0 2]\n"
     ]
    }
   ],
   "source": [
    "k_means = KMeans(n_clusters=3)\n",
    "y_pred = k_means.fit_predict(X)\n",
    "print(y_pred)"
   ]
  },
  {
   "cell_type": "code",
   "execution_count": 95,
   "metadata": {},
   "outputs": [
    {
     "name": "stdout",
     "output_type": "stream",
     "text": [
      "[2 0 2 2 1 1 2 1 2 1 2 0 1 1 0 1 0 2 2 2 2 1 1 2 1 0 1 0 0 2 0 0 0 1 2 0 0\n",
      " 1 1 2 1 2 2 2 2 2 2 0 2 2 0 0 1 0 1 1 2 2 0 1 1 1 1 2 1 2 0 1 1 2 0 0 1 1\n",
      " 1 1 1 0 1 1 2 1 2 1 2 2 0 2 1 2 2 0 2 1 0 0 2 0 0 2 1 1 0 1 0 1 1 0 0 2 1\n",
      " 0 1 2 0 2 1 1 1 1 1 2 1 2 2 2 1 0 1 0 2 1 2 2 1 2 2 0 1 2 2 1 0 2 2 2 2 2\n",
      " 2 1 0 0 1 2 1 0 2 1 1 0 0 2 1 1 1 1 0 1 2 0 0 2 2 1 1 2 1 2 1 1 0 2 1 0 1\n",
      " 1 1 0 2 2 1 2 1 0 0 1 0 0 1 0 2 0 2 2 2 1 0 1 2 2 1 2 2 0 2 1 0 0 1 1 2 0\n",
      " 1 0 1 2 1 2 0 2 1 1 0 1 2 0 1 0 2 2 2 1 2 2 1 0 0 1 0 0 2 1 2 1 2 1 2 2 1\n",
      " 2 1 2 1 1 1 0 2 2 2 2 1 1 1 0 0 0 0 0 0 0 2 0 1 1 2 2 2 2 0 2 0 0 0 1 2 0\n",
      " 2 1 2 2 1 1 2 2 1 1 2 0 1 2 0 2 0 0 2 0 0 1 1 1 1 1 2 2 1 0 0 2 2 0 0 2 0\n",
      " 1 0 2 0 1 2 1 1 2 0 2 2 0 0 0 2 1 2 2 1 2 1 2 2 0 2 1 2 2 0 2 2 1 2 0 2 2\n",
      " 2 2 0 2 1 1 0 1 2 0 2 2 0 2 0 0 2 0 1 1 1 2 2 0 1 1 1 2 2 1 2 1 1 1 1 2 0\n",
      " 2 1 2 2 2 1 0 1 0 0 1 0 1 0 1 1 1 0 1 0 1 2 2 1 1 2 1 1 0 2 1 1 2 0 1 2 1\n",
      " 2 2 1 0 2 2 2 0 2 2 1 2 2 1 1 1 1 1 1 0 2 2 1 1 1 2 0 0 1 1 2 1 0 1 0 1 0\n",
      " 1 2 0 2 0 0 2 1 1 2 2 2 1 2 0 2 1 1 0]\n"
     ]
    }
   ],
   "source": [
    "k_means = KMeans(n_clusters=3, init='random', n_init=1, max_iter=1)\n",
    "y_pred = k_means.fit_predict(X)\n",
    "print(y_pred)"
   ]
  },
  {
   "cell_type": "markdown",
   "metadata": {},
   "source": [
    "#### Implement algorithm for one variable"
   ]
  },
  {
   "cell_type": "code",
   "execution_count": 34,
   "metadata": {},
   "outputs": [],
   "source": [
    "X = np.array([1,2,3,2,1,3,9,8,11,12,10,11,14,25,26,24,30,22,24,27])"
   ]
  },
  {
   "cell_type": "code",
   "execution_count": 35,
   "metadata": {},
   "outputs": [
    {
     "data": {
      "text/plain": [
       "'file:///Users/umitcakmak/Documents/PhD/Book_Proposals/temp-plot.html'"
      ]
     },
     "execution_count": 35,
     "metadata": {},
     "output_type": "execute_result"
    }
   ],
   "source": [
    "trace1 = go.Scatter(\n",
    "    x=X,\n",
    "    y=[0 for num in X],\n",
    "    mode='markers',\n",
    "    name='Data',\n",
    "    marker=dict(\n",
    "        size=12\n",
    "    )\n",
    ")\n",
    "\n",
    "layout = go.Layout(\n",
    "    title='1D vector',\n",
    ")\n",
    "traces = [trace1]\n",
    "\n",
    "fig = go.Figure(data=traces, layout=layout)\n",
    "\n",
    "plot(fig)"
   ]
  },
  {
   "cell_type": "markdown",
   "metadata": {},
   "source": [
    "#### KMeans for one variable"
   ]
  },
  {
   "cell_type": "code",
   "execution_count": 9,
   "metadata": {},
   "outputs": [],
   "source": [
    "import numpy as np\n",
    "X = np.array([1,2,3,2,1,3,9,8,11,12,10,11,14,25,26,24,30,22,24,27])"
   ]
  },
  {
   "cell_type": "code",
   "execution_count": 174,
   "metadata": {},
   "outputs": [],
   "source": [
    "n_clusters = 3\n",
    "c_centers = np.random.choice(X, n_clusters)"
   ]
  },
  {
   "cell_type": "code",
   "execution_count": 175,
   "metadata": {},
   "outputs": [
    {
     "name": "stdout",
     "output_type": "stream",
     "text": [
      "[25 22 12]\n"
     ]
    }
   ],
   "source": [
    "print(c_centers)"
   ]
  },
  {
   "cell_type": "code",
   "execution_count": 176,
   "metadata": {},
   "outputs": [
    {
     "data": {
      "text/plain": [
       "array([[24, 21, 11],\n",
       "       [23, 20, 10],\n",
       "       [22, 19,  9],\n",
       "       [23, 20, 10],\n",
       "       [24, 21, 11],\n",
       "       [22, 19,  9],\n",
       "       [16, 13,  3],\n",
       "       [17, 14,  4],\n",
       "       [14, 11,  1],\n",
       "       [13, 10,  0],\n",
       "       [15, 12,  2],\n",
       "       [14, 11,  1],\n",
       "       [11,  8,  2],\n",
       "       [ 0,  3, 13],\n",
       "       [ 1,  4, 14],\n",
       "       [ 1,  2, 12],\n",
       "       [ 5,  8, 18],\n",
       "       [ 3,  0, 10],\n",
       "       [ 1,  2, 12],\n",
       "       [ 2,  5, 15]])"
      ]
     },
     "execution_count": 176,
     "metadata": {},
     "output_type": "execute_result"
    }
   ],
   "source": [
    "deltas = np.array([np.abs(point - c_centers) for point in X])\n",
    "deltas"
   ]
  },
  {
   "cell_type": "code",
   "execution_count": 177,
   "metadata": {},
   "outputs": [
    {
     "data": {
      "text/plain": [
       "array([2, 2, 2, 2, 2, 2, 2, 2, 2, 2, 2, 2, 2, 0, 0, 0, 0, 1, 0, 0])"
      ]
     },
     "execution_count": 177,
     "metadata": {},
     "output_type": "execute_result"
    }
   ],
   "source": [
    "deltas.argmin(1)"
   ]
  },
  {
   "cell_type": "code",
   "execution_count": 178,
   "metadata": {},
   "outputs": [],
   "source": [
    "c_centers = np.array([X[np.where(deltas.argmin(1) == i)[0]].mean() for i in range(3)])"
   ]
  },
  {
   "cell_type": "code",
   "execution_count": 179,
   "metadata": {},
   "outputs": [
    {
     "name": "stdout",
     "output_type": "stream",
     "text": [
      "[26.         22.          6.69230769]\n"
     ]
    }
   ],
   "source": [
    "print(c_centers)"
   ]
  },
  {
   "cell_type": "code",
   "execution_count": 180,
   "metadata": {},
   "outputs": [],
   "source": [
    "def Kmeans_1D(X, n_clusters, random_seed=442):\n",
    "    \n",
    "    # Randomly choose random indexes as cluster centers\n",
    "    rng = np.random.RandomState(random_seed)\n",
    "    i = rng.permutation(X.shape[0])[:n_clusters]\n",
    "    c_centers = X[i]\n",
    "    \n",
    "    # Calculate distances between each point and cluster centers\n",
    "    deltas = np.array([np.abs(point - c_centers) for point in X])\n",
    "    \n",
    "    # Get labels for each point\n",
    "    labels = deltas.argmin(1)\n",
    "\n",
    "    while True:\n",
    "\n",
    "        # Calculate mean of each cluster\n",
    "        new_c_centers = np.array([X[np.where(deltas.argmin(1) == i)[0]].mean() for i in range(n_clusters)])\n",
    "\n",
    "        # Calculate distances again\n",
    "        deltas = np.array([np.abs(point - new_c_centers) for point in X])\n",
    "    \n",
    "        # Get new labels for each point\n",
    "        labels = deltas.argmin(1)\n",
    "\n",
    "        # If there's no change in centers, exit\n",
    "        if np.all(c_centers == new_c_centers):\n",
    "            break\n",
    "        c_centers = new_c_centers\n",
    "\n",
    "    return c_centers, labels"
   ]
  },
  {
   "cell_type": "code",
   "execution_count": 181,
   "metadata": {},
   "outputs": [],
   "source": [
    "c_centers, labels = Kmeans_1D(X, 3)"
   ]
  },
  {
   "cell_type": "code",
   "execution_count": 182,
   "metadata": {},
   "outputs": [
    {
     "name": "stdout",
     "output_type": "stream",
     "text": [
      "[10.71428571 25.42857143  2.        ] [2 2 2 2 2 2 0 0 0 0 0 0 0 1 1 1 1 1 1 1]\n"
     ]
    }
   ],
   "source": [
    "print(c_centers, labels)"
   ]
  },
  {
   "cell_type": "code",
   "execution_count": 73,
   "metadata": {},
   "outputs": [
    {
     "data": {
      "text/plain": [
       "'file:///Users/umitcakmak/Documents/PhD/Book_Proposals/temp-plot.html'"
      ]
     },
     "execution_count": 73,
     "metadata": {},
     "output_type": "execute_result"
    }
   ],
   "source": [
    "trace1 = go.Scatter(\n",
    "    x=X,\n",
    "    y=[0 for num in X],\n",
    "    mode='markers',\n",
    "    name='Data',\n",
    "    marker=dict(\n",
    "        size=12\n",
    "    )\n",
    ")\n",
    "\n",
    "trace2 = go.Scatter(\n",
    "    x = c_centers,\n",
    "    y = [0 for num in X],\n",
    "    mode='markers',\n",
    "    name = 'Cluster centers',\n",
    "    marker = dict(\n",
    "        size=12,\n",
    "        color = ('rgb(122, 296, 167)'))\n",
    ")\n",
    "\n",
    "layout = go.Layout(\n",
    "    title='1D vector',\n",
    ")\n",
    "traces = [trace1, trace2]\n",
    "\n",
    "fig = go.Figure(data=traces, layout=layout)\n",
    "\n",
    "plot(fig)"
   ]
  },
  {
   "cell_type": "markdown",
   "metadata": {},
   "source": [
    "### KMeans with multiple variables"
   ]
  },
  {
   "cell_type": "markdown",
   "metadata": {},
   "source": [
    "### Reading dataset as numpy array"
   ]
  },
  {
   "cell_type": "code",
   "execution_count": 74,
   "metadata": {},
   "outputs": [],
   "source": [
    "from numpy import genfromtxt\n",
    "wholesales_data = genfromtxt('Wholesale customers data.csv', delimiter=',', skip_header=1)"
   ]
  },
  {
   "cell_type": "code",
   "execution_count": 76,
   "metadata": {},
   "outputs": [
    {
     "name": "stdout",
     "output_type": "stream",
     "text": [
      "[[2.0000e+00 3.0000e+00 1.2669e+04 9.6560e+03 7.5610e+03 2.1400e+02\n",
      "  2.6740e+03 1.3380e+03]\n",
      " [2.0000e+00 3.0000e+00 7.0570e+03 9.8100e+03 9.5680e+03 1.7620e+03\n",
      "  3.2930e+03 1.7760e+03]\n",
      " [2.0000e+00 3.0000e+00 6.3530e+03 8.8080e+03 7.6840e+03 2.4050e+03\n",
      "  3.5160e+03 7.8440e+03]\n",
      " [1.0000e+00 3.0000e+00 1.3265e+04 1.1960e+03 4.2210e+03 6.4040e+03\n",
      "  5.0700e+02 1.7880e+03]\n",
      " [2.0000e+00 3.0000e+00 2.2615e+04 5.4100e+03 7.1980e+03 3.9150e+03\n",
      "  1.7770e+03 5.1850e+03]]\n"
     ]
    }
   ],
   "source": [
    "print(wholesales_data[:5])"
   ]
  },
  {
   "cell_type": "code",
   "execution_count": 77,
   "metadata": {},
   "outputs": [
    {
     "data": {
      "text/plain": [
       "(440, 8)"
      ]
     },
     "execution_count": 77,
     "metadata": {},
     "output_type": "execute_result"
    }
   ],
   "source": [
    "wholesales_data.shape"
   ]
  },
  {
   "cell_type": "code",
   "execution_count": 8,
   "metadata": {},
   "outputs": [],
   "source": [
    "wholesales_data_norm = wholesales_data / np.linalg.norm(wholesales_data)"
   ]
  },
  {
   "cell_type": "code",
   "execution_count": 78,
   "metadata": {},
   "outputs": [
    {
     "name": "stdout",
     "output_type": "stream",
     "text": [
      "[[ 1.          0.          0.30168043  1.06571214  0.32995207 -0.46657183\n",
      "   0.50678671  0.2638102 ]\n",
      " [ 1.          0.         -0.1048095   1.09293385  0.56599336  0.08392603\n",
      "   0.67567015  0.5740085 ]\n",
      " [ 1.          0.         -0.15580183  0.91581599  0.34441798  0.3125889\n",
      "   0.73651183  4.87145892]\n",
      " [ 0.          0.          0.34485007 -0.42971408 -0.06286202  1.73470839\n",
      "  -0.08444172  0.58250708]\n",
      " [ 1.          0.          1.02209184  0.3151708   0.28726     0.84957326\n",
      "   0.26205579  2.98831445]]\n"
     ]
    }
   ],
   "source": [
    "print(wholesales_data_norm[:5])"
   ]
  },
  {
   "cell_type": "code",
   "execution_count": 237,
   "metadata": {},
   "outputs": [],
   "source": [
    "import pandas as pd\n",
    "df = pd.DataFrame(wholesales_data_norm,\n",
    "                         columns=['Channel',\n",
    "                                  'Region',\n",
    "                                  'Fresh',\n",
    "                                  'Milk',\n",
    "                                  'Grocery',\n",
    "                                  'Frozen',\n",
    "                                  'Detergents_Paper',\n",
    "                                  'Delicassen'])"
   ]
  },
  {
   "cell_type": "code",
   "execution_count": 238,
   "metadata": {},
   "outputs": [
    {
     "data": {
      "text/html": [
       "<div>\n",
       "<style>\n",
       "    .dataframe thead tr:only-child th {\n",
       "        text-align: right;\n",
       "    }\n",
       "\n",
       "    .dataframe thead th {\n",
       "        text-align: left;\n",
       "    }\n",
       "\n",
       "    .dataframe tbody tr th {\n",
       "        vertical-align: top;\n",
       "    }\n",
       "</style>\n",
       "<table border=\"1\" class=\"dataframe\">\n",
       "  <thead>\n",
       "    <tr style=\"text-align: right;\">\n",
       "      <th></th>\n",
       "      <th>Channel</th>\n",
       "      <th>Region</th>\n",
       "      <th>Fresh</th>\n",
       "      <th>Milk</th>\n",
       "      <th>Grocery</th>\n",
       "      <th>Frozen</th>\n",
       "      <th>Detergents_Paper</th>\n",
       "      <th>Delicassen</th>\n",
       "    </tr>\n",
       "  </thead>\n",
       "  <tbody>\n",
       "    <tr>\n",
       "      <th>0</th>\n",
       "      <td>1.0</td>\n",
       "      <td>0.0</td>\n",
       "      <td>0.301680</td>\n",
       "      <td>1.065712</td>\n",
       "      <td>0.329952</td>\n",
       "      <td>-0.466572</td>\n",
       "      <td>0.506787</td>\n",
       "      <td>0.263810</td>\n",
       "    </tr>\n",
       "    <tr>\n",
       "      <th>1</th>\n",
       "      <td>1.0</td>\n",
       "      <td>0.0</td>\n",
       "      <td>-0.104810</td>\n",
       "      <td>1.092934</td>\n",
       "      <td>0.565993</td>\n",
       "      <td>0.083926</td>\n",
       "      <td>0.675670</td>\n",
       "      <td>0.574008</td>\n",
       "    </tr>\n",
       "    <tr>\n",
       "      <th>2</th>\n",
       "      <td>1.0</td>\n",
       "      <td>0.0</td>\n",
       "      <td>-0.155802</td>\n",
       "      <td>0.915816</td>\n",
       "      <td>0.344418</td>\n",
       "      <td>0.312589</td>\n",
       "      <td>0.736512</td>\n",
       "      <td>4.871459</td>\n",
       "    </tr>\n",
       "    <tr>\n",
       "      <th>3</th>\n",
       "      <td>0.0</td>\n",
       "      <td>0.0</td>\n",
       "      <td>0.344850</td>\n",
       "      <td>-0.429714</td>\n",
       "      <td>-0.062862</td>\n",
       "      <td>1.734708</td>\n",
       "      <td>-0.084442</td>\n",
       "      <td>0.582507</td>\n",
       "    </tr>\n",
       "    <tr>\n",
       "      <th>4</th>\n",
       "      <td>1.0</td>\n",
       "      <td>0.0</td>\n",
       "      <td>1.022092</td>\n",
       "      <td>0.315171</td>\n",
       "      <td>0.287260</td>\n",
       "      <td>0.849573</td>\n",
       "      <td>0.262056</td>\n",
       "      <td>2.988314</td>\n",
       "    </tr>\n",
       "    <tr>\n",
       "      <th>5</th>\n",
       "      <td>1.0</td>\n",
       "      <td>0.0</td>\n",
       "      <td>0.065841</td>\n",
       "      <td>0.818772</td>\n",
       "      <td>0.043574</td>\n",
       "      <td>-0.305832</td>\n",
       "      <td>0.266967</td>\n",
       "      <td>0.343839</td>\n",
       "    </tr>\n",
       "    <tr>\n",
       "      <th>6</th>\n",
       "      <td>1.0</td>\n",
       "      <td>0.0</td>\n",
       "      <td>0.262350</td>\n",
       "      <td>-0.075655</td>\n",
       "      <td>0.261033</td>\n",
       "      <td>-0.371977</td>\n",
       "      <td>0.633927</td>\n",
       "      <td>-0.297805</td>\n",
       "    </tr>\n",
       "    <tr>\n",
       "      <th>7</th>\n",
       "      <td>1.0</td>\n",
       "      <td>0.0</td>\n",
       "      <td>-0.067000</td>\n",
       "      <td>0.234920</td>\n",
       "      <td>0.549293</td>\n",
       "      <td>0.050853</td>\n",
       "      <td>0.683309</td>\n",
       "      <td>1.133499</td>\n",
       "    </tr>\n",
       "    <tr>\n",
       "      <th>8</th>\n",
       "      <td>0.0</td>\n",
       "      <td>0.0</td>\n",
       "      <td>-0.184050</td>\n",
       "      <td>0.003712</td>\n",
       "      <td>0.168945</td>\n",
       "      <td>-0.391536</td>\n",
       "      <td>0.245413</td>\n",
       "      <td>-0.152620</td>\n",
       "    </tr>\n",
       "    <tr>\n",
       "      <th>9</th>\n",
       "      <td>1.0</td>\n",
       "      <td>0.0</td>\n",
       "      <td>-0.180936</td>\n",
       "      <td>1.319722</td>\n",
       "      <td>1.661286</td>\n",
       "      <td>-0.130512</td>\n",
       "      <td>1.803015</td>\n",
       "      <td>0.802054</td>\n",
       "    </tr>\n",
       "  </tbody>\n",
       "</table>\n",
       "</div>"
      ],
      "text/plain": [
       "   Channel  Region     Fresh      Milk   Grocery    Frozen  Detergents_Paper  \\\n",
       "0      1.0     0.0  0.301680  1.065712  0.329952 -0.466572          0.506787   \n",
       "1      1.0     0.0 -0.104810  1.092934  0.565993  0.083926          0.675670   \n",
       "2      1.0     0.0 -0.155802  0.915816  0.344418  0.312589          0.736512   \n",
       "3      0.0     0.0  0.344850 -0.429714 -0.062862  1.734708         -0.084442   \n",
       "4      1.0     0.0  1.022092  0.315171  0.287260  0.849573          0.262056   \n",
       "5      1.0     0.0  0.065841  0.818772  0.043574 -0.305832          0.266967   \n",
       "6      1.0     0.0  0.262350 -0.075655  0.261033 -0.371977          0.633927   \n",
       "7      1.0     0.0 -0.067000  0.234920  0.549293  0.050853          0.683309   \n",
       "8      0.0     0.0 -0.184050  0.003712  0.168945 -0.391536          0.245413   \n",
       "9      1.0     0.0 -0.180936  1.319722  1.661286 -0.130512          1.803015   \n",
       "\n",
       "   Delicassen  \n",
       "0    0.263810  \n",
       "1    0.574008  \n",
       "2    4.871459  \n",
       "3    0.582507  \n",
       "4    2.988314  \n",
       "5    0.343839  \n",
       "6   -0.297805  \n",
       "7    1.133499  \n",
       "8   -0.152620  \n",
       "9    0.802054  "
      ]
     },
     "execution_count": 238,
     "metadata": {},
     "output_type": "execute_result"
    }
   ],
   "source": [
    "df.head(10)"
   ]
  },
  {
   "cell_type": "code",
   "execution_count": 82,
   "metadata": {},
   "outputs": [
    {
     "data": {
      "text/plain": [
       "'file:///Users/umitcakmak/Documents/PhD/Book_Proposals/temp-plot.html'"
      ]
     },
     "execution_count": 82,
     "metadata": {},
     "output_type": "execute_result"
    }
   ],
   "source": [
    "fig = ff.create_scatterplotmatrix(df, diag='histogram', size=7, height=1200, width=1200)\n",
    "plot(fig)"
   ]
  },
  {
   "cell_type": "code",
   "execution_count": 83,
   "metadata": {},
   "outputs": [
    {
     "data": {
      "text/html": [
       "<div>\n",
       "<style>\n",
       "    .dataframe thead tr:only-child th {\n",
       "        text-align: right;\n",
       "    }\n",
       "\n",
       "    .dataframe thead th {\n",
       "        text-align: left;\n",
       "    }\n",
       "\n",
       "    .dataframe tbody tr th {\n",
       "        vertical-align: top;\n",
       "    }\n",
       "</style>\n",
       "<table border=\"1\" class=\"dataframe\">\n",
       "  <thead>\n",
       "    <tr style=\"text-align: right;\">\n",
       "      <th></th>\n",
       "      <th>Channel</th>\n",
       "      <th>Region</th>\n",
       "      <th>Fresh</th>\n",
       "      <th>Milk</th>\n",
       "      <th>Grocery</th>\n",
       "      <th>Frozen</th>\n",
       "      <th>Detergents_Paper</th>\n",
       "      <th>Delicassen</th>\n",
       "    </tr>\n",
       "  </thead>\n",
       "  <tbody>\n",
       "    <tr>\n",
       "      <th>Channel</th>\n",
       "      <td>1.000000</td>\n",
       "      <td>0.062028</td>\n",
       "      <td>-0.169172</td>\n",
       "      <td>0.460720</td>\n",
       "      <td>0.608792</td>\n",
       "      <td>-0.202046</td>\n",
       "      <td>0.636026</td>\n",
       "      <td>0.056011</td>\n",
       "    </tr>\n",
       "    <tr>\n",
       "      <th>Region</th>\n",
       "      <td>0.062028</td>\n",
       "      <td>1.000000</td>\n",
       "      <td>0.055287</td>\n",
       "      <td>0.032288</td>\n",
       "      <td>0.007696</td>\n",
       "      <td>-0.021044</td>\n",
       "      <td>-0.001483</td>\n",
       "      <td>0.045212</td>\n",
       "    </tr>\n",
       "    <tr>\n",
       "      <th>Fresh</th>\n",
       "      <td>-0.169172</td>\n",
       "      <td>0.055287</td>\n",
       "      <td>1.000000</td>\n",
       "      <td>0.100510</td>\n",
       "      <td>-0.011854</td>\n",
       "      <td>0.345881</td>\n",
       "      <td>-0.101953</td>\n",
       "      <td>0.244690</td>\n",
       "    </tr>\n",
       "    <tr>\n",
       "      <th>Milk</th>\n",
       "      <td>0.460720</td>\n",
       "      <td>0.032288</td>\n",
       "      <td>0.100510</td>\n",
       "      <td>1.000000</td>\n",
       "      <td>0.728335</td>\n",
       "      <td>0.123994</td>\n",
       "      <td>0.661816</td>\n",
       "      <td>0.406368</td>\n",
       "    </tr>\n",
       "    <tr>\n",
       "      <th>Grocery</th>\n",
       "      <td>0.608792</td>\n",
       "      <td>0.007696</td>\n",
       "      <td>-0.011854</td>\n",
       "      <td>0.728335</td>\n",
       "      <td>1.000000</td>\n",
       "      <td>-0.040193</td>\n",
       "      <td>0.924641</td>\n",
       "      <td>0.205497</td>\n",
       "    </tr>\n",
       "    <tr>\n",
       "      <th>Frozen</th>\n",
       "      <td>-0.202046</td>\n",
       "      <td>-0.021044</td>\n",
       "      <td>0.345881</td>\n",
       "      <td>0.123994</td>\n",
       "      <td>-0.040193</td>\n",
       "      <td>1.000000</td>\n",
       "      <td>-0.131525</td>\n",
       "      <td>0.390947</td>\n",
       "    </tr>\n",
       "    <tr>\n",
       "      <th>Detergents_Paper</th>\n",
       "      <td>0.636026</td>\n",
       "      <td>-0.001483</td>\n",
       "      <td>-0.101953</td>\n",
       "      <td>0.661816</td>\n",
       "      <td>0.924641</td>\n",
       "      <td>-0.131525</td>\n",
       "      <td>1.000000</td>\n",
       "      <td>0.069291</td>\n",
       "    </tr>\n",
       "    <tr>\n",
       "      <th>Delicassen</th>\n",
       "      <td>0.056011</td>\n",
       "      <td>0.045212</td>\n",
       "      <td>0.244690</td>\n",
       "      <td>0.406368</td>\n",
       "      <td>0.205497</td>\n",
       "      <td>0.390947</td>\n",
       "      <td>0.069291</td>\n",
       "      <td>1.000000</td>\n",
       "    </tr>\n",
       "  </tbody>\n",
       "</table>\n",
       "</div>"
      ],
      "text/plain": [
       "                   Channel    Region     Fresh      Milk   Grocery    Frozen  \\\n",
       "Channel           1.000000  0.062028 -0.169172  0.460720  0.608792 -0.202046   \n",
       "Region            0.062028  1.000000  0.055287  0.032288  0.007696 -0.021044   \n",
       "Fresh            -0.169172  0.055287  1.000000  0.100510 -0.011854  0.345881   \n",
       "Milk              0.460720  0.032288  0.100510  1.000000  0.728335  0.123994   \n",
       "Grocery           0.608792  0.007696 -0.011854  0.728335  1.000000 -0.040193   \n",
       "Frozen           -0.202046 -0.021044  0.345881  0.123994 -0.040193  1.000000   \n",
       "Detergents_Paper  0.636026 -0.001483 -0.101953  0.661816  0.924641 -0.131525   \n",
       "Delicassen        0.056011  0.045212  0.244690  0.406368  0.205497  0.390947   \n",
       "\n",
       "                  Detergents_Paper  Delicassen  \n",
       "Channel                   0.636026    0.056011  \n",
       "Region                   -0.001483    0.045212  \n",
       "Fresh                    -0.101953    0.244690  \n",
       "Milk                      0.661816    0.406368  \n",
       "Grocery                   0.924641    0.205497  \n",
       "Frozen                   -0.131525    0.390947  \n",
       "Detergents_Paper          1.000000    0.069291  \n",
       "Delicassen                0.069291    1.000000  "
      ]
     },
     "execution_count": 83,
     "metadata": {},
     "output_type": "execute_result"
    }
   ],
   "source": [
    "df.corr()"
   ]
  },
  {
   "cell_type": "code",
   "execution_count": 85,
   "metadata": {},
   "outputs": [],
   "source": [
    "import seaborn as sns; sns.set()"
   ]
  },
  {
   "cell_type": "code",
   "execution_count": 89,
   "metadata": {},
   "outputs": [
    {
     "data": {
      "image/png": "[encoded data removed]",
      "text/plain": [
       "<matplotlib.figure.Figure at 0x1150e8eb8>"
      ]
     },
     "metadata": {},
     "output_type": "display_data"
    }
   ],
   "source": [
    "ax = sns.heatmap(df.corr(), annot=True)"
   ]
  },
  {
   "cell_type": "code",
   "execution_count": 102,
   "metadata": {},
   "outputs": [
    {
     "data": {
      "text/plain": [
       "'file:///Users/umitcakmak/Documents/PhD/Book_Proposals/temp-plot.html'"
      ]
     },
     "execution_count": 102,
     "metadata": {},
     "output_type": "execute_result"
    }
   ],
   "source": [
    "# Creating data for the plotly\n",
    "trace1 = go.Scatter3d(\n",
    "    # Extracting data based on label\n",
    "    x=df['Grocery'],\n",
    "    y=df['Detergents_Paper'],\n",
    "    z=df['Milk'],\n",
    "    mode='markers',\n",
    "    marker=dict(\n",
    "        size=12,\n",
    "        line=dict(\n",
    "            color='rgba(217, 217, 217, 0.14)',\n",
    "            width=0.5\n",
    "        ),\n",
    "        opacity=0.8\n",
    "    )\n",
    ")\n",
    "\n",
    "# Layout settings\n",
    "layout = go.Layout(\n",
    "    scene = dict(\n",
    "        xaxis = dict(\n",
    "            title= 'Grocery'),\n",
    "        yaxis = dict(\n",
    "            title= 'Detergents_Paper'),\n",
    "        zaxis = dict(\n",
    "            title= 'Milk'),),\n",
    ")\n",
    "\n",
    "data = [trace1]\n",
    "\n",
    "fig = dict(data=data, layout=layout)\n",
    "plot(fig)"
   ]
  },
  {
   "cell_type": "code",
   "execution_count": 239,
   "metadata": {},
   "outputs": [],
   "source": [
    "df = df[[col for col in df.columns if col not in ['Channel', 'Region']]]"
   ]
  },
  {
   "cell_type": "code",
   "execution_count": 240,
   "metadata": {},
   "outputs": [
    {
     "data": {
      "text/html": [
       "<div>\n",
       "<style>\n",
       "    .dataframe thead tr:only-child th {\n",
       "        text-align: right;\n",
       "    }\n",
       "\n",
       "    .dataframe thead th {\n",
       "        text-align: left;\n",
       "    }\n",
       "\n",
       "    .dataframe tbody tr th {\n",
       "        vertical-align: top;\n",
       "    }\n",
       "</style>\n",
       "<table border=\"1\" class=\"dataframe\">\n",
       "  <thead>\n",
       "    <tr style=\"text-align: right;\">\n",
       "      <th></th>\n",
       "      <th>Fresh</th>\n",
       "      <th>Milk</th>\n",
       "      <th>Grocery</th>\n",
       "      <th>Frozen</th>\n",
       "      <th>Detergents_Paper</th>\n",
       "      <th>Delicassen</th>\n",
       "    </tr>\n",
       "  </thead>\n",
       "  <tbody>\n",
       "    <tr>\n",
       "      <th>0</th>\n",
       "      <td>0.301680</td>\n",
       "      <td>1.065712</td>\n",
       "      <td>0.329952</td>\n",
       "      <td>-0.466572</td>\n",
       "      <td>0.506787</td>\n",
       "      <td>0.263810</td>\n",
       "    </tr>\n",
       "    <tr>\n",
       "      <th>1</th>\n",
       "      <td>-0.104810</td>\n",
       "      <td>1.092934</td>\n",
       "      <td>0.565993</td>\n",
       "      <td>0.083926</td>\n",
       "      <td>0.675670</td>\n",
       "      <td>0.574008</td>\n",
       "    </tr>\n",
       "    <tr>\n",
       "      <th>2</th>\n",
       "      <td>-0.155802</td>\n",
       "      <td>0.915816</td>\n",
       "      <td>0.344418</td>\n",
       "      <td>0.312589</td>\n",
       "      <td>0.736512</td>\n",
       "      <td>4.871459</td>\n",
       "    </tr>\n",
       "    <tr>\n",
       "      <th>3</th>\n",
       "      <td>0.344850</td>\n",
       "      <td>-0.429714</td>\n",
       "      <td>-0.062862</td>\n",
       "      <td>1.734708</td>\n",
       "      <td>-0.084442</td>\n",
       "      <td>0.582507</td>\n",
       "    </tr>\n",
       "    <tr>\n",
       "      <th>4</th>\n",
       "      <td>1.022092</td>\n",
       "      <td>0.315171</td>\n",
       "      <td>0.287260</td>\n",
       "      <td>0.849573</td>\n",
       "      <td>0.262056</td>\n",
       "      <td>2.988314</td>\n",
       "    </tr>\n",
       "    <tr>\n",
       "      <th>5</th>\n",
       "      <td>0.065841</td>\n",
       "      <td>0.818772</td>\n",
       "      <td>0.043574</td>\n",
       "      <td>-0.305832</td>\n",
       "      <td>0.266967</td>\n",
       "      <td>0.343839</td>\n",
       "    </tr>\n",
       "    <tr>\n",
       "      <th>6</th>\n",
       "      <td>0.262350</td>\n",
       "      <td>-0.075655</td>\n",
       "      <td>0.261033</td>\n",
       "      <td>-0.371977</td>\n",
       "      <td>0.633927</td>\n",
       "      <td>-0.297805</td>\n",
       "    </tr>\n",
       "    <tr>\n",
       "      <th>7</th>\n",
       "      <td>-0.067000</td>\n",
       "      <td>0.234920</td>\n",
       "      <td>0.549293</td>\n",
       "      <td>0.050853</td>\n",
       "      <td>0.683309</td>\n",
       "      <td>1.133499</td>\n",
       "    </tr>\n",
       "    <tr>\n",
       "      <th>8</th>\n",
       "      <td>-0.184050</td>\n",
       "      <td>0.003712</td>\n",
       "      <td>0.168945</td>\n",
       "      <td>-0.391536</td>\n",
       "      <td>0.245413</td>\n",
       "      <td>-0.152620</td>\n",
       "    </tr>\n",
       "    <tr>\n",
       "      <th>9</th>\n",
       "      <td>-0.180936</td>\n",
       "      <td>1.319722</td>\n",
       "      <td>1.661286</td>\n",
       "      <td>-0.130512</td>\n",
       "      <td>1.803015</td>\n",
       "      <td>0.802054</td>\n",
       "    </tr>\n",
       "  </tbody>\n",
       "</table>\n",
       "</div>"
      ],
      "text/plain": [
       "      Fresh      Milk   Grocery    Frozen  Detergents_Paper  Delicassen\n",
       "0  0.301680  1.065712  0.329952 -0.466572          0.506787    0.263810\n",
       "1 -0.104810  1.092934  0.565993  0.083926          0.675670    0.574008\n",
       "2 -0.155802  0.915816  0.344418  0.312589          0.736512    4.871459\n",
       "3  0.344850 -0.429714 -0.062862  1.734708         -0.084442    0.582507\n",
       "4  1.022092  0.315171  0.287260  0.849573          0.262056    2.988314\n",
       "5  0.065841  0.818772  0.043574 -0.305832          0.266967    0.343839\n",
       "6  0.262350 -0.075655  0.261033 -0.371977          0.633927   -0.297805\n",
       "7 -0.067000  0.234920  0.549293  0.050853          0.683309    1.133499\n",
       "8 -0.184050  0.003712  0.168945 -0.391536          0.245413   -0.152620\n",
       "9 -0.180936  1.319722  1.661286 -0.130512          1.803015    0.802054"
      ]
     },
     "execution_count": 240,
     "metadata": {},
     "output_type": "execute_result"
    }
   ],
   "source": [
    "df.head(10)"
   ]
  },
  {
   "cell_type": "code",
   "execution_count": 241,
   "metadata": {},
   "outputs": [
    {
     "data": {
      "text/plain": [
       "array([[ 0.30168043,  1.06571214,  0.32995207, -0.46657183,  0.50678671,\n",
       "         0.2638102 ],\n",
       "       [-0.1048095 ,  1.09293385,  0.56599336,  0.08392603,  0.67567015,\n",
       "         0.5740085 ],\n",
       "       [-0.15580183,  0.91581599,  0.34441798,  0.3125889 ,  0.73651183,\n",
       "         4.87145892],\n",
       "       ...,\n",
       "       [ 0.43654933,  2.09660171,  2.99755961, -0.38726885,  3.826342  ,\n",
       "         0.63845609],\n",
       "       [ 0.12936404, -0.29095409, -0.29678633, -0.17354196, -0.176932  ,\n",
       "         0.82117564],\n",
       "       [-0.41409532, -0.34097839, -0.26409103, -0.51955903, -0.0926267 ,\n",
       "        -0.64695467]])"
      ]
     },
     "execution_count": 241,
     "metadata": {},
     "output_type": "execute_result"
    }
   ],
   "source": [
    "df.values"
   ]
  },
  {
   "cell_type": "code",
   "execution_count": 251,
   "metadata": {},
   "outputs": [],
   "source": [
    "def Kmeans_nD(X, n_clusters, random_seed=442):\n",
    "    \n",
    "    # Randomly choose random indexes as cluster centers\n",
    "    rng = np.random.RandomState(random_seed)\n",
    "    i = rng.permutation(X.shape[0])[:n_clusters]\n",
    "    c_centers = X[i]\n",
    "    \n",
    "    # Calculate distances between each point and cluster centers\n",
    "    deltas = np.array([[np.linalg.norm(i - c) for c in c_centers] for i in X])\n",
    "    \n",
    "    # Get labels for each point\n",
    "    labels = deltas.argmin(1)\n",
    "\n",
    "    while True:\n",
    "\n",
    "        # Calculate mean of each cluster\n",
    "        new_c_centers = np.array([X[np.where(deltas.argmin(1) == i)[0]].mean(axis=0) for i in range(n_clusters)])\n",
    "\n",
    "        # Calculate distances again\n",
    "        deltas = np.array([[np.linalg.norm(i - c) for c in new_c_centers] for i in X])\n",
    "    \n",
    "        # Get new labels for each point\n",
    "        labels = deltas.argmin(1)\n",
    "\n",
    "        # If there's no change in centers, exit\n",
    "        if np.array_equal(c_centers, new_c_centers):\n",
    "            break\n",
    "        c_centers = new_c_centers\n",
    "\n",
    "    return c_centers, labels"
   ]
  },
  {
   "cell_type": "code",
   "execution_count": 196,
   "metadata": {},
   "outputs": [],
   "source": [
    "X = df.values"
   ]
  },
  {
   "cell_type": "code",
   "execution_count": 197,
   "metadata": {},
   "outputs": [],
   "source": [
    "random_seed = 442\n",
    "n_clusters = 3\n",
    "rng = np.random.RandomState(random_seed)\n",
    "i = rng.permutation(X.shape[0])[:n_clusters]\n",
    "c_centers = X[i]"
   ]
  },
  {
   "cell_type": "code",
   "execution_count": 198,
   "metadata": {},
   "outputs": [
    {
     "data": {
      "text/plain": [
       "array([[-0.42677097,  0.1258562 , -0.19082062,  0.19985775,  0.00095491,\n",
       "         0.0138102 ],\n",
       "       [-0.52259887, -0.05285253, -0.32148423, -0.35384068, -0.15319555,\n",
       "         0.57259207],\n",
       "       [ 0.65493264,  0.15767378, -0.01805298, -0.16358464,  0.39356115,\n",
       "         0.82046742]])"
      ]
     },
     "execution_count": 198,
     "metadata": {},
     "output_type": "execute_result"
    }
   ],
   "source": [
    "c_centers"
   ]
  },
  {
   "cell_type": "code",
   "execution_count": 199,
   "metadata": {},
   "outputs": [],
   "source": [
    "deltas = np.array([[np.linalg.norm(i - c) for c in c_centers] for i in X])"
   ]
  },
  {
   "cell_type": "code",
   "execution_count": 200,
   "metadata": {},
   "outputs": [
    {
     "data": {
      "text/plain": [
       "array([[1.5645028 , 1.70253449, 1.21857164],\n",
       "       [1.54731015, 1.77585216, 1.41230969],\n",
       "       [5.01342643, 4.6078464 , 4.25656478],\n",
       "       ...,\n",
       "       [5.49212297, 5.69195445, 4.97676594],\n",
       "       [1.14767406, 0.75975181, 0.93847945],\n",
       "       [1.08921624, 1.27142004, 1.99209274]])"
      ]
     },
     "execution_count": 200,
     "metadata": {},
     "output_type": "execute_result"
    }
   ],
   "source": [
    "deltas"
   ]
  },
  {
   "cell_type": "code",
   "execution_count": 201,
   "metadata": {},
   "outputs": [],
   "source": [
    "labels = deltas.argmin(1)"
   ]
  },
  {
   "cell_type": "code",
   "execution_count": 202,
   "metadata": {},
   "outputs": [
    {
     "data": {
      "text/plain": [
       "array([2, 2, 2, 0, 2, 2, 0, 2, 0, 2, 0, 0, 2, 2, 2, 0, 0, 2, 2, 0, 2, 0,\n",
       "       2, 2, 2, 2, 0, 0, 2, 2, 2, 0, 2, 2, 0, 0, 2, 2, 2, 2, 2, 2, 2, 0,\n",
       "       0, 2, 2, 2, 2, 2, 0, 0, 2, 0, 2, 0, 2, 2, 0, 2, 0, 2, 0, 2, 0, 2,\n",
       "       0, 2, 0, 0, 0, 2, 0, 0, 2, 0, 0, 2, 0, 1, 0, 0, 2, 2, 0, 2, 2, 2,\n",
       "       0, 2, 0, 0, 2, 0, 0, 0, 0, 0, 0, 0, 2, 2, 0, 2, 0, 2, 2, 2, 0, 0,\n",
       "       0, 2, 2, 0, 2, 0, 0, 0, 0, 0, 2, 0, 0, 0, 2, 2, 0, 2, 0, 2, 0, 0,\n",
       "       0, 0, 0, 0, 0, 0, 2, 0, 2, 2, 2, 0, 0, 2, 0, 0, 0, 2, 2, 1, 0, 1,\n",
       "       0, 2, 2, 0, 0, 0, 2, 1, 0, 2, 0, 2, 2, 0, 0, 0, 0, 2, 0, 2, 0, 2,\n",
       "       2, 2, 0, 0, 2, 2, 0, 2, 0, 0, 0, 0, 0, 2, 0, 0, 0, 0, 1, 0, 2, 0,\n",
       "       0, 0, 2, 2, 2, 0, 1, 2, 0, 0, 0, 2, 2, 2, 1, 0, 0, 2, 2, 2, 2, 0,\n",
       "       0, 0, 0, 0, 0, 0, 2, 0, 0, 0, 0, 0, 2, 0, 2, 0, 0, 0, 0, 2, 2, 2,\n",
       "       0, 2, 2, 2, 0, 0, 0, 0, 0, 2, 0, 2, 2, 2, 0, 0, 2, 2, 0, 0, 2, 0,\n",
       "       2, 0, 2, 2, 2, 0, 0, 1, 0, 2, 1, 0, 2, 0, 0, 2, 0, 2, 2, 0, 2, 2,\n",
       "       0, 0, 0, 2, 1, 0, 0, 0, 2, 0, 2, 0, 0, 0, 2, 0, 0, 0, 2, 0, 2, 2,\n",
       "       0, 0, 0, 2, 2, 0, 0, 2, 0, 1, 0, 2, 0, 0, 0, 0, 2, 0, 0, 0, 0, 0,\n",
       "       0, 2, 2, 2, 2, 2, 0, 0, 0, 0, 2, 2, 0, 2, 0, 0, 0, 2, 0, 2, 0, 2,\n",
       "       0, 2, 2, 0, 0, 0, 2, 0, 0, 0, 0, 0, 0, 2, 0, 0, 2, 0, 2, 0, 1, 2,\n",
       "       0, 0, 0, 2, 1, 0, 2, 0, 2, 0, 2, 0, 0, 2, 0, 0, 0, 1, 0, 0, 0, 0,\n",
       "       2, 0, 0, 0, 0, 0, 2, 2, 0, 0, 0, 2, 0, 2, 1, 1, 0, 0, 0, 2, 2, 0,\n",
       "       0, 1, 2, 2, 2, 2, 2, 0, 2, 0, 0, 1, 1, 0, 2, 1, 2, 2, 2, 2, 1, 0])"
      ]
     },
     "execution_count": 202,
     "metadata": {},
     "output_type": "execute_result"
    }
   ],
   "source": [
    "labels"
   ]
  },
  {
   "cell_type": "code",
   "execution_count": 203,
   "metadata": {},
   "outputs": [],
   "source": [
    "new_c_centers = np.array([X[np.where(deltas.argmin(1) == i)[0]].mean(axis=0) for i in range(n_clusters)])"
   ]
  },
  {
   "cell_type": "code",
   "execution_count": 204,
   "metadata": {},
   "outputs": [
    {
     "data": {
      "text/plain": [
       "array([[-6.64645258e-02, -1.04944536e-02,  5.66302202e-04,\n",
       "         6.76400361e-01,  1.79547980e-01, -1.91518675e-01],\n",
       "       [-2.93816353e-01, -1.23852873e-01, -1.64677814e-01,\n",
       "        -2.22329472e-01, -9.10546607e-02,  7.02195467e-01],\n",
       "       [ 7.37107255e-01,  9.60309816e-01,  9.32035476e-01,\n",
       "         4.72823652e-01,  1.14405905e+00,  1.13338903e+00]])"
      ]
     },
     "execution_count": 204,
     "metadata": {},
     "output_type": "execute_result"
    }
   ],
   "source": [
    "new_c_centers"
   ]
  },
  {
   "cell_type": "code",
   "execution_count": 252,
   "metadata": {},
   "outputs": [],
   "source": [
    "centers, labels = Kmeans_nD(df[['Grocery', 'Detergents_Paper']].values, 3)"
   ]
  },
  {
   "cell_type": "code",
   "execution_count": 243,
   "metadata": {},
   "outputs": [
    {
     "data": {
      "text/plain": [
       "array([1, 1, 1, 1, 1, 1, 1, 1, 1, 0, 0, 1, 1, 0, 0, 1, 0, 1, 1, 1, 1, 1,\n",
       "       1, 0, 0, 1, 1, 1, 0, 1, 1, 1, 1, 1, 1, 1, 1, 0, 0, 1, 1, 1, 0, 0,\n",
       "       1, 0, 0, 2, 0, 0, 1, 1, 1, 0, 1, 1, 0, 0, 1, 1, 1, 2, 1, 0, 1, 2,\n",
       "       1, 0, 1, 1, 1, 0, 1, 1, 1, 1, 1, 0, 1, 1, 1, 0, 1, 1, 1, 2, 2, 1,\n",
       "       1, 1, 1, 1, 2, 1, 0, 1, 1, 1, 1, 1, 0, 0, 1, 1, 1, 1, 0, 0, 1, 0,\n",
       "       1, 0, 1, 1, 1, 1, 1, 1, 1, 1, 1, 1, 1, 1, 1, 1, 1, 1, 1, 1, 1, 1,\n",
       "       1, 1, 1, 1, 1, 1, 1, 1, 1, 1, 1, 1, 1, 0, 1, 1, 1, 1, 1, 1, 1, 1,\n",
       "       1, 0, 0, 1, 1, 0, 0, 1, 1, 0, 1, 0, 1, 1, 1, 1, 0, 0, 1, 0, 1, 1,\n",
       "       1, 1, 1, 1, 1, 0, 0, 1, 1, 1, 1, 1, 0, 1, 1, 1, 1, 0, 1, 1, 1, 1,\n",
       "       1, 1, 0, 0, 1, 1, 1, 0, 1, 1, 1, 0, 1, 2, 1, 1, 0, 0, 0, 1, 0, 1,\n",
       "       1, 1, 1, 1, 1, 1, 1, 1, 1, 1, 1, 1, 1, 1, 1, 1, 1, 1, 1, 1, 1, 1,\n",
       "       1, 1, 1, 0, 1, 1, 1, 1, 1, 2, 1, 1, 1, 1, 1, 1, 1, 1, 1, 1, 1, 1,\n",
       "       0, 1, 0, 1, 0, 1, 1, 1, 1, 1, 1, 1, 1, 1, 1, 1, 1, 1, 1, 1, 1, 1,\n",
       "       1, 1, 1, 1, 1, 1, 1, 0, 1, 1, 1, 1, 1, 1, 1, 0, 0, 0, 0, 1, 0, 1,\n",
       "       1, 0, 1, 1, 0, 1, 1, 1, 1, 1, 1, 0, 1, 1, 1, 1, 1, 1, 1, 1, 1, 1,\n",
       "       1, 0, 1, 2, 1, 1, 1, 1, 1, 1, 0, 0, 1, 0, 1, 1, 0, 0, 1, 0, 1, 0,\n",
       "       1, 0, 1, 1, 1, 0, 1, 1, 1, 1, 1, 1, 1, 1, 1, 1, 1, 1, 1, 1, 1, 1,\n",
       "       1, 1, 0, 1, 1, 1, 1, 1, 1, 1, 1, 1, 1, 1, 1, 1, 1, 1, 1, 1, 1, 1,\n",
       "       1, 1, 1, 1, 1, 1, 1, 1, 1, 1, 1, 0, 1, 1, 1, 1, 1, 1, 1, 1, 0, 1,\n",
       "       0, 1, 0, 1, 1, 1, 1, 1, 0, 1, 1, 1, 1, 1, 1, 1, 1, 1, 1, 0, 1, 1])"
      ]
     },
     "execution_count": 243,
     "metadata": {},
     "output_type": "execute_result"
    }
   ],
   "source": [
    "labels"
   ]
  },
  {
   "cell_type": "code",
   "execution_count": 244,
   "metadata": {},
   "outputs": [],
   "source": [
    "df['labels'] = labels"
   ]
  },
  {
   "cell_type": "code",
   "execution_count": 245,
   "metadata": {},
   "outputs": [
    {
     "data": {
      "text/plain": [
       "'file:///Users/umitcakmak/Documents/PhD/Book_Proposals/temp-plot.html'"
      ]
     },
     "execution_count": 245,
     "metadata": {},
     "output_type": "execute_result"
    }
   ],
   "source": [
    "# Creating data for the plotly\n",
    "trace1 = go.Scatter(\n",
    "    # Extracting data based on label\n",
    "    x=df[df['labels'] == 0]['Grocery'],\n",
    "    y=df[df['labels'] == 0]['Detergents_Paper'],\n",
    "    mode='markers',\n",
    "    name='clust_1',\n",
    "    marker=dict(\n",
    "        size=12,\n",
    "        line=dict(\n",
    "            color='rgba(217, 217, 217, 0.14)',\n",
    "            width=0.5\n",
    "        ),\n",
    "        opacity=0.8\n",
    "    )\n",
    ")\n",
    "\n",
    "trace2 = go.Scatter(\n",
    "    # Extracting data based on label\n",
    "    x=df[df['labels'] == 1]['Grocery'],\n",
    "    y=df[df['labels'] == 1]['Detergents_Paper'],\n",
    "    mode='markers',\n",
    "    name='clust_2',\n",
    "    marker=dict(\n",
    "        color='rgb(#3742fa)',\n",
    "        size=12,\n",
    "        symbol='circle',\n",
    "        line=dict(\n",
    "            color='rgb(204, 204, 204)',\n",
    "            width=1\n",
    "        ),\n",
    "        opacity=0.9\n",
    "    )\n",
    ")\n",
    "\n",
    "trace3 = go.Scatter(\n",
    "    # Extracting data based on label\n",
    "    x=df[df['labels'] == 2]['Grocery'],\n",
    "    y=df[df['labels'] == 2]['Detergents_Paper'],\n",
    "    mode='markers',\n",
    "    name='clust_3',\n",
    "    marker=dict(\n",
    "        color='rgb(#ff4757)',\n",
    "        size=12,\n",
    "        symbol='circle',\n",
    "        line=dict(\n",
    "            color='rgb(104, 74, 114)',\n",
    "            width=1\n",
    "        ),\n",
    "        opacity=0.9\n",
    "    )\n",
    ")\n",
    "\n",
    "\n",
    "data = [trace1, trace2, trace3]\n",
    "\n",
    "# Layout settings\n",
    "layout = go.Layout(\n",
    "    scene = dict(\n",
    "        xaxis = dict(\n",
    "            title= 'Grocery'),\n",
    "        yaxis = dict(\n",
    "            title= 'Detergents_Paper'),\n",
    "    )\n",
    ")\n",
    "\n",
    "\n",
    "fig = go.Figure(data=data, layout=layout)\n",
    "plot(fig)"
   ]
  },
  {
   "cell_type": "code",
   "execution_count": 246,
   "metadata": {},
   "outputs": [
    {
     "data": {
      "text/html": [
       "<div>\n",
       "<style>\n",
       "    .dataframe thead tr:only-child th {\n",
       "        text-align: right;\n",
       "    }\n",
       "\n",
       "    .dataframe thead th {\n",
       "        text-align: left;\n",
       "    }\n",
       "\n",
       "    .dataframe tbody tr th {\n",
       "        vertical-align: top;\n",
       "    }\n",
       "</style>\n",
       "<table border=\"1\" class=\"dataframe\">\n",
       "  <thead>\n",
       "    <tr style=\"text-align: right;\">\n",
       "      <th></th>\n",
       "      <th>Fresh</th>\n",
       "      <th>Milk</th>\n",
       "      <th>Grocery</th>\n",
       "      <th>Frozen</th>\n",
       "      <th>Detergents_Paper</th>\n",
       "      <th>Delicassen</th>\n",
       "    </tr>\n",
       "    <tr>\n",
       "      <th>labels</th>\n",
       "      <th></th>\n",
       "      <th></th>\n",
       "      <th></th>\n",
       "      <th></th>\n",
       "      <th></th>\n",
       "      <th></th>\n",
       "    </tr>\n",
       "  </thead>\n",
       "  <tbody>\n",
       "    <tr>\n",
       "      <th>0</th>\n",
       "      <td>-0.070577</td>\n",
       "      <td>1.316079</td>\n",
       "      <td>1.558293</td>\n",
       "      <td>0.037966</td>\n",
       "      <td>1.963503</td>\n",
       "      <td>0.665974</td>\n",
       "    </tr>\n",
       "    <tr>\n",
       "      <th>1</th>\n",
       "      <td>0.320582</td>\n",
       "      <td>0.026393</td>\n",
       "      <td>-0.036936</td>\n",
       "      <td>0.671540</td>\n",
       "      <td>0.068682</td>\n",
       "      <td>0.302569</td>\n",
       "    </tr>\n",
       "    <tr>\n",
       "      <th>2</th>\n",
       "      <td>0.635915</td>\n",
       "      <td>5.588699</td>\n",
       "      <td>5.432275</td>\n",
       "      <td>0.560929</td>\n",
       "      <td>6.780301</td>\n",
       "      <td>1.526479</td>\n",
       "    </tr>\n",
       "  </tbody>\n",
       "</table>\n",
       "</div>"
      ],
      "text/plain": [
       "           Fresh      Milk   Grocery    Frozen  Detergents_Paper  Delicassen\n",
       "labels                                                                      \n",
       "0      -0.070577  1.316079  1.558293  0.037966          1.963503    0.665974\n",
       "1       0.320582  0.026393 -0.036936  0.671540          0.068682    0.302569\n",
       "2       0.635915  5.588699  5.432275  0.560929          6.780301    1.526479"
      ]
     },
     "execution_count": 246,
     "metadata": {},
     "output_type": "execute_result"
    }
   ],
   "source": [
    "df.groupby('labels').mean()"
   ]
  },
  {
   "cell_type": "code",
   "execution_count": 254,
   "metadata": {},
   "outputs": [],
   "source": [
    "from scipy.spatial import distance\n",
    "a = (1,2,3)\n",
    "b = (4,5,6)\n",
    "dst = distance.euclidean(a,b)"
   ]
  },
  {
   "cell_type": "code",
   "execution_count": 255,
   "metadata": {},
   "outputs": [
    {
     "data": {
      "text/plain": [
       "5.196152422706632"
      ]
     },
     "execution_count": 255,
     "metadata": {},
     "output_type": "execute_result"
    }
   ],
   "source": [
    "dst"
   ]
  },
  {
   "cell_type": "code",
   "execution_count": 256,
   "metadata": {},
   "outputs": [
    {
     "data": {
      "text/plain": [
       "\u001b[0;31mSignature:\u001b[0m \u001b[0mdistance\u001b[0m\u001b[0;34m.\u001b[0m\u001b[0meuclidean\u001b[0m\u001b[0;34m(\u001b[0m\u001b[0mu\u001b[0m\u001b[0;34m,\u001b[0m \u001b[0mv\u001b[0m\u001b[0;34m,\u001b[0m \u001b[0mw\u001b[0m\u001b[0;34m=\u001b[0m\u001b[0;32mNone\u001b[0m\u001b[0;34m)\u001b[0m\u001b[0;34m\u001b[0m\u001b[0m\n",
       "\u001b[0;31mDocstring:\u001b[0m\n",
       "Computes the Euclidean distance between two 1-D arrays.\n",
       "\n",
       "The Euclidean distance between 1-D arrays `u` and `v`, is defined as\n",
       "\n",
       ".. math::\n",
       "\n",
       "   {||u-v||}_2\n",
       "\n",
       "   \\left(\\sum{(w_i |(u_i - v_i)|^2)}\\right)^{1/2}\n",
       "\n",
       "Parameters\n",
       "----------\n",
       "u : (N,) array_like\n",
       "    Input array.\n",
       "v : (N,) array_like\n",
       "    Input array.\n",
       "w : (N,) array_like, optional\n",
       "    The weights for each value in `u` and `v`. Default is None,\n",
       "    which gives each value a weight of 1.0\n",
       "\n",
       "Returns\n",
       "-------\n",
       "euclidean : double\n",
       "    The Euclidean distance between vectors `u` and `v`.\n",
       "\u001b[0;31mFile:\u001b[0m      ~/anaconda/lib/python3.6/site-packages/scipy/spatial/distance.py\n",
       "\u001b[0;31mType:\u001b[0m      function\n"
      ]
     },
     "metadata": {},
     "output_type": "display_data"
    }
   ],
   "source": [
    "distance.euclidean?"
   ]
  },
  {
   "cell_type": "code",
   "execution_count": null,
   "metadata": {},
   "outputs": [],
   "source": []
  }
 ],
 "metadata": {
  "kernelspec": {
   "display_name": "Python 3",
   "language": "python",
   "name": "python3"
  },
  "language_info": {
   "codemirror_mode": {
    "name": "ipython",
    "version": 3
   },
   "file_extension": ".py",
   "mimetype": "text/x-python",
   "name": "python",
   "nbconvert_exporter": "python",
   "pygments_lexer": "ipython3",
   "version": "3.6.1"
  }
 },
 "nbformat": 4,
 "nbformat_minor": 2
}
