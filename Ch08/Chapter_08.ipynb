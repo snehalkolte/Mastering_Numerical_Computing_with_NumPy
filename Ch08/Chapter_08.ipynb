{
 "cells": [
  {
   "cell_type": "markdown",
   "metadata": {},
   "source": [
    "## Singular-value decomposition"
   ]
  },
  {
   "cell_type": "code",
   "execution_count": 61,
   "metadata": {},
   "outputs": [],
   "source": [
    "import numpy as np\n",
    "\n",
    "M = np.random.randint(low=0, high=20, size=20).reshape(4,5)"
   ]
  },
  {
   "cell_type": "code",
   "execution_count": 62,
   "metadata": {},
   "outputs": [
    {
     "name": "stdout",
     "output_type": "stream",
     "text": [
      "[[18 15 11 13 19]\n",
      " [ 1  6  8 13 18]\n",
      " [ 9  7 15 13 10]\n",
      " [17 15 12 14 12]]\n"
     ]
    }
   ],
   "source": [
    "print(M)"
   ]
  },
  {
   "cell_type": "code",
   "execution_count": 63,
   "metadata": {},
   "outputs": [],
   "source": [
    "U, d, VT = np.linalg.svd(M)"
   ]
  },
  {
   "cell_type": "code",
   "execution_count": 64,
   "metadata": {},
   "outputs": [
    {
     "name": "stdout",
     "output_type": "stream",
     "text": [
      "U:\n",
      " [[-0.60773852 -0.22318957  0.5276743  -0.54990921]\n",
      " [-0.38123886  0.86738201  0.19333528  0.25480749]\n",
      " [-0.42657252  0.10181457 -0.82343563 -0.36003255]\n",
      " [-0.55076919 -0.43297652 -0.07832665  0.70925987]]\n",
      "\n",
      "d:\n",
      " [56.31276456 13.15721839  8.08763849  2.51997135]\n",
      "\n",
      "VT:\n",
      " [[-0.43547429 -0.40223663 -0.40386674 -0.46371223 -0.52002929]\n",
      " [-0.72920427 -0.29835313  0.06197899  0.27638212  0.54682545]\n",
      " [ 0.11733943  0.26412864 -0.73449806 -0.30022507  0.53557916]\n",
      " [-0.32795351  0.55511623 -0.3571117   0.56067806 -0.3773643 ]\n",
      " [-0.39661218  0.60932187  0.40747282 -0.55144258  0.03609177]]\n"
     ]
    }
   ],
   "source": [
    "print(\"U:\\n {}\\n\".format(U))\n",
    "print(\"d:\\n {}\\n\".format(d))\n",
    "print(\"VT:\\n {}\".format(VT))"
   ]
  },
  {
   "cell_type": "code",
   "execution_count": 65,
   "metadata": {},
   "outputs": [
    {
     "name": "stdout",
     "output_type": "stream",
     "text": [
      "U:\n",
      " [[-0.60773852 -0.22318957  0.5276743  -0.54990921]\n",
      " [-0.38123886  0.86738201  0.19333528  0.25480749]\n",
      " [-0.42657252  0.10181457 -0.82343563 -0.36003255]\n",
      " [-0.55076919 -0.43297652 -0.07832665  0.70925987]]\n",
      "\n",
      "d:\n",
      " [56.31276456 13.15721839  8.08763849  2.51997135]\n",
      "\n",
      "VT:\n",
      " [[-0.43547429 -0.40223663 -0.40386674 -0.46371223 -0.52002929]\n",
      " [-0.72920427 -0.29835313  0.06197899  0.27638212  0.54682545]\n",
      " [ 0.11733943  0.26412864 -0.73449806 -0.30022507  0.53557916]\n",
      " [-0.32795351  0.55511623 -0.3571117   0.56067806 -0.3773643 ]]\n"
     ]
    }
   ],
   "source": [
    "# Setting full_matrices to false gives you reduced form where small values close to zero are excluded\n",
    "U, d, VT = np.linalg.svd(M, full_matrices=False)\n",
    "\n",
    "print(\"U:\\n {}\\n\".format(U))\n",
    "print(\"d:\\n {}\\n\".format(d))\n",
    "print(\"VT:\\n {}\".format(VT))"
   ]
  },
  {
   "cell_type": "markdown",
   "metadata": {},
   "source": [
    "## LU decomposition"
   ]
  },
  {
   "cell_type": "code",
   "execution_count": 66,
   "metadata": {},
   "outputs": [
    {
     "name": "stdout",
     "output_type": "stream",
     "text": [
      "[[18 12 14 15  2]\n",
      " [ 4  2 12 18  3]\n",
      " [ 9 19  5 16  8]\n",
      " [15 19  6 16 11]\n",
      " [ 1 19  2 18 17]]\n"
     ]
    }
   ],
   "source": [
    "from numpy import array\n",
    "from scipy.linalg import lu\n",
    "\n",
    "M = np.random.randint(low=0, high=20, size=25).reshape(5,5)\n",
    "print(M)"
   ]
  },
  {
   "cell_type": "code",
   "execution_count": 67,
   "metadata": {},
   "outputs": [
    {
     "name": "stdout",
     "output_type": "stream",
     "text": [
      "P:\n",
      " [[1. 0. 0. 0. 0.]\n",
      " [0. 0. 1. 0. 0.]\n",
      " [0. 0. 0. 0. 1.]\n",
      " [0. 0. 0. 1. 0.]\n",
      " [0. 1. 0. 0. 0.]]\n",
      "\n",
      "L:\n",
      " [[ 1.          0.          0.          0.          0.        ]\n",
      " [ 0.05555556  1.          0.          0.          0.        ]\n",
      " [ 0.22222222 -0.03636364  1.          0.          0.        ]\n",
      " [ 0.83333333  0.49090909 -0.70149254  1.          0.        ]\n",
      " [ 0.5         0.70909091 -0.32089552  0.21279832  1.        ]]\n",
      "\n",
      "U:\n",
      " [[18.         12.         14.         15.          2.        ]\n",
      " [ 0.         18.33333333  1.22222222 17.16666667 16.88888889]\n",
      " [ 0.          0.          8.93333333 15.29090909  3.16969697]\n",
      " [ 0.          0.          0.          5.79918589  3.26594301]\n",
      " [ 0.          0.          0.          0.         -4.65360318]]\n"
     ]
    }
   ],
   "source": [
    "P, L, U = lu(M)\n",
    "\n",
    "print(\"P:\\n {}\\n\".format(P))\n",
    "print(\"L:\\n {}\\n\".format(L))\n",
    "print(\"U:\\n {}\".format(U))"
   ]
  },
  {
   "cell_type": "code",
   "execution_count": 68,
   "metadata": {},
   "outputs": [
    {
     "data": {
      "text/plain": [
       "array([[18., 12., 14., 15.,  2.],\n",
       "       [ 4.,  2., 12., 18.,  3.],\n",
       "       [ 9., 19.,  5., 16.,  8.],\n",
       "       [15., 19.,  6., 16., 11.],\n",
       "       [ 1., 19.,  2., 18., 17.]])"
      ]
     },
     "execution_count": 68,
     "metadata": {},
     "output_type": "execute_result"
    }
   ],
   "source": [
    "P.dot(L).dot(U)"
   ]
  },
  {
   "cell_type": "markdown",
   "metadata": {},
   "source": [
    "## QR decomposition"
   ]
  },
  {
   "cell_type": "code",
   "execution_count": 69,
   "metadata": {},
   "outputs": [
    {
     "name": "stdout",
     "output_type": "stream",
     "text": [
      "[[14  6  0 19  3]\n",
      " [ 9  6 17  8  8]\n",
      " [ 4 13 17  4  4]\n",
      " [ 0  0  2  7 11]]\n"
     ]
    }
   ],
   "source": [
    "from numpy import array\n",
    "from numpy.linalg import qr\n",
    "\n",
    "M = np.random.randint(low=0, high=20, size=20).reshape(4,5)\n",
    "print(M)"
   ]
  },
  {
   "cell_type": "code",
   "execution_count": 70,
   "metadata": {},
   "outputs": [
    {
     "name": "stdout",
     "output_type": "stream",
     "text": [
      "Q:\n",
      " [[-0.81788873  0.28364908 -0.49345895  0.08425845]\n",
      " [-0.52578561 -0.01509441  0.83834961 -0.14314877]\n",
      " [-0.2336825  -0.95880935 -0.15918031  0.02718015]\n",
      " [-0.         -0.          0.16831464  0.98573332]]\n",
      "\n",
      "R:\n",
      " [[-17.11724277 -11.09991852 -12.91095786 -20.68090082  -7.59468109]\n",
      " [  0.         -10.85319349 -16.5563638    1.43333978  -3.10504542]\n",
      " [  0.           0.          11.88250752  -2.12744187   6.4411599 ]\n",
      " [  0.           0.           0.           7.4645743   10.05937231]]\n"
     ]
    }
   ],
   "source": [
    "Q, R = qr(M, 'complete')\n",
    "\n",
    "print(\"Q:\\n {}\\n\".format(Q))\n",
    "print(\"R:\\n {}\".format(R))"
   ]
  },
  {
   "cell_type": "code",
   "execution_count": 71,
   "metadata": {},
   "outputs": [
    {
     "data": {
      "text/plain": [
       "array([[1.40000000e+01, 6.00000000e+00, 1.77635684e-15, 1.90000000e+01,\n",
       "        3.00000000e+00],\n",
       "       [9.00000000e+00, 6.00000000e+00, 1.70000000e+01, 8.00000000e+00,\n",
       "        8.00000000e+00],\n",
       "       [4.00000000e+00, 1.30000000e+01, 1.70000000e+01, 4.00000000e+00,\n",
       "        4.00000000e+00],\n",
       "       [0.00000000e+00, 0.00000000e+00, 2.00000000e+00, 7.00000000e+00,\n",
       "        1.10000000e+01]])"
      ]
     },
     "execution_count": 71,
     "metadata": {},
     "output_type": "execute_result"
    }
   ],
   "source": [
    "Q.dot(R)"
   ]
  },
  {
   "cell_type": "markdown",
   "metadata": {},
   "source": [
    "## Cholesky decomposition"
   ]
  },
  {
   "cell_type": "code",
   "execution_count": 202,
   "metadata": {},
   "outputs": [
    {
     "name": "stdout",
     "output_type": "stream",
     "text": [
      "[[ 1  3  4]\n",
      " [ 2 13 15]\n",
      " [ 5 31 33]]\n"
     ]
    }
   ],
   "source": [
    "from numpy import array\n",
    "from scipy.linalg import cholesky\n",
    "\n",
    "M = np.array([[1, 3, 4], \n",
    "     [2, 13, 15], \n",
    "     [5, 31, 33]])\n",
    "print(M)"
   ]
  },
  {
   "cell_type": "code",
   "execution_count": 203,
   "metadata": {},
   "outputs": [
    {
     "name": "stdout",
     "output_type": "stream",
     "text": [
      "[[1.         3.         4.        ]\n",
      " [0.         2.         1.5       ]\n",
      " [0.         0.         3.84057287]]\n"
     ]
    }
   ],
   "source": [
    "L = cholesky(M)\n",
    "print(L)"
   ]
  },
  {
   "cell_type": "code",
   "execution_count": 204,
   "metadata": {},
   "outputs": [
    {
     "data": {
      "text/plain": [
       "array([[ 1.,  3.,  4.],\n",
       "       [ 3., 13., 15.],\n",
       "       [ 4., 15., 33.]])"
      ]
     },
     "execution_count": 204,
     "metadata": {},
     "output_type": "execute_result"
    }
   ],
   "source": [
    "L.T.dot(L)"
   ]
  },
  {
   "cell_type": "markdown",
   "metadata": {},
   "source": [
    "## Eigenvalue decomposition"
   ]
  },
  {
   "cell_type": "code",
   "execution_count": 72,
   "metadata": {},
   "outputs": [
    {
     "name": "stdout",
     "output_type": "stream",
     "text": [
      "[[13  9  5  0 12]\n",
      " [13  6 11  8 15]\n",
      " [16 17 15 12  1]\n",
      " [17  8  5  7  5]\n",
      " [10  6 18  5 19]]\n"
     ]
    }
   ],
   "source": [
    "from numpy import array\n",
    "from numpy.linalg import eig\n",
    "\n",
    "M = np.random.randint(low=0, high=20, size=25).reshape(5,5)\n",
    "print(M)"
   ]
  },
  {
   "cell_type": "code",
   "execution_count": 76,
   "metadata": {},
   "outputs": [
    {
     "name": "stdout",
     "output_type": "stream",
     "text": [
      "Eigenvalues:\n",
      " [50.79415691 +0.j          5.76076687+11.52079216j\n",
      "  5.76076687-11.52079216j -1.15784533 +3.28961651j\n",
      " -1.15784533 -3.28961651j]\n",
      "\n",
      "Eigenvectors:\n",
      " [[ 0.34875973+0.j         -0.36831427+0.21725348j -0.36831427-0.21725348j\n",
      "  -0.40737336-0.19752276j -0.40737336+0.19752276j]\n",
      " [ 0.46629571+0.j         -0.08027011-0.03330739j -0.08027011+0.03330739j\n",
      "   0.58904402+0.j          0.58904402-0.j        ]\n",
      " [ 0.50628483+0.j          0.62334823+0.j          0.62334823-0.j\n",
      "  -0.27738359-0.22063552j -0.27738359+0.22063552j]\n",
      " [ 0.33975886+0.j          0.14035596+0.39427693j  0.14035596-0.39427693j\n",
      "   0.125282  +0.46663129j  0.125282  -0.46663129j]\n",
      " [ 0.53774952+0.j         -0.18591079-0.45968785j -0.18591079+0.45968785j\n",
      "   0.20856874+0.21329768j  0.20856874-0.21329768j]]\n"
     ]
    }
   ],
   "source": [
    "V, Q = eig(M)\n",
    "\n",
    "print(\"Eigenvalues:\\n {}\\n\".format(V))\n",
    "print(\"Eigenvectors:\\n {}\".format(Q))"
   ]
  },
  {
   "cell_type": "code",
   "execution_count": 77,
   "metadata": {},
   "outputs": [
    {
     "data": {
      "text/plain": [
       "array([[1.30000000e+01-2.88657986e-15j, 9.00000000e+00-2.33146835e-15j,\n",
       "        5.00000000e+00+2.38697950e-15j, 1.17683641e-14+1.77635684e-15j,\n",
       "        1.20000000e+01-4.99600361e-16j],\n",
       "       [1.30000000e+01-4.32986980e-15j, 6.00000000e+00-3.99680289e-15j,\n",
       "        1.10000000e+01+3.38618023e-15j, 8.00000000e+00+1.72084569e-15j,\n",
       "        1.50000000e+01-2.77555756e-16j],\n",
       "       [1.60000000e+01-7.21644966e-15j, 1.70000000e+01-6.66133815e-15j,\n",
       "        1.50000000e+01+5.71764858e-15j, 1.20000000e+01+2.99760217e-15j,\n",
       "        1.00000000e+00-6.66133815e-16j],\n",
       "       [1.70000000e+01-5.27355937e-15j, 8.00000000e+00-3.10862447e-15j,\n",
       "        5.00000000e+00+4.27435864e-15j, 7.00000000e+00+2.22044605e-15j,\n",
       "        5.00000000e+00-1.22124533e-15j],\n",
       "       [1.00000000e+01-3.60822483e-15j, 6.00000000e+00-4.21884749e-15j,\n",
       "        1.80000000e+01+2.27595720e-15j, 5.00000000e+00+1.55431223e-15j,\n",
       "        1.90000000e+01+3.88578059e-16j]])"
      ]
     },
     "execution_count": 77,
     "metadata": {},
     "output_type": "execute_result"
    }
   ],
   "source": [
    "from numpy import diag\n",
    "from numpy import dot\n",
    "from numpy.linalg import inv\n",
    "\n",
    "Q.dot(diag(V)).dot(inv(Q))"
   ]
  },
  {
   "cell_type": "code",
   "execution_count": null,
   "metadata": {},
   "outputs": [],
   "source": []
  }
 ],
 "metadata": {
  "kernelspec": {
   "display_name": "Python 3",
   "language": "python",
   "name": "python3"
  },
  "language_info": {
   "codemirror_mode": {
    "name": "ipython",
    "version": 3
   },
   "file_extension": ".py",
   "mimetype": "text/x-python",
   "name": "python",
   "nbconvert_exporter": "python",
   "pygments_lexer": "ipython3",
   "version": "3.6.1"
  }
 },
 "nbformat": 4,
 "nbformat_minor": 2
}
